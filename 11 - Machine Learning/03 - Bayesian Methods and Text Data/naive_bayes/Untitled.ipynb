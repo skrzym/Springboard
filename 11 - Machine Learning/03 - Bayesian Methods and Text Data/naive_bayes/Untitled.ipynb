{
 "cells": [
  {
   "cell_type": "code",
   "execution_count": 10,
   "metadata": {
    "collapsed": true
   },
   "outputs": [],
   "source": [
    "%matplotlib inline\n",
    "import pandas as pd"
   ]
  },
  {
   "cell_type": "code",
   "execution_count": 4,
   "metadata": {
    "collapsed": false
   },
   "outputs": [],
   "source": [
    "url = \"https://raw.githubusercontent.com/hackoregon/hack-university-database-engineering/master/Data/Crime%20Data/crimedata.csv\"\n",
    "data = pd.read_csv(url)"
   ]
  },
  {
   "cell_type": "code",
   "execution_count": null,
   "metadata": {
    "collapsed": true
   },
   "outputs": [],
   "source": [
    "data.x"
   ]
  },
  {
   "cell_type": "code",
   "execution_count": 13,
   "metadata": {
    "collapsed": false
   },
   "outputs": [
    {
     "data": {
      "text/plain": [
       "<matplotlib.axes._subplots.AxesSubplot at 0x20f714c6240>"
      ]
     },
     "execution_count": 13,
     "metadata": {},
     "output_type": "execute_result"
    },
    {
     "data": {
      "image/png": "[encoded data removed]",
      "text/plain": [
       "<matplotlib.figure.Figure at 0x20f714bb390>"
      ]
     },
     "metadata": {},
     "output_type": "display_data"
    }
   ],
   "source": [
    "data.plot(x='xcoordinate', y='ycoordinate',kind='scatter')"
   ]
  },
  {
   "cell_type": "code",
   "execution_count": 16,
   "metadata": {
    "collapsed": false
   },
   "outputs": [
    {
     "data": {
      "text/plain": [
       "Larceny                    24178\n",
       "Vandalism                   4411\n",
       "Burglary                    4102\n",
       "Disorderly Conduct          4008\n",
       "Assault, Simple             3935\n",
       "Motor Vehicle Theft         3449\n",
       "Trespass                    2805\n",
       "Drugs                       2668\n",
       "Liquor Laws                 2268\n",
       "Fraud                       2008\n",
       "Aggravated Assault          1699\n",
       "DUII                        1483\n",
       "Runaway                     1436\n",
       "Robbery                      846\n",
       "Forgery                      578\n",
       "Sex Offenses                 479\n",
       "Weapons                      329\n",
       "Rape                         206\n",
       "Prostitution                 147\n",
       "Arson                        146\n",
       "Embezzlement                 126\n",
       "Stolen Property               72\n",
       "Offenses Against Family       46\n",
       "Homicide                      27\n",
       "Curfew                        24\n",
       "Kidnap                        20\n",
       "Gambling                       1\n",
       "Name: major_offense_type, dtype: int64"
      ]
     },
     "execution_count": 16,
     "metadata": {},
     "output_type": "execute_result"
    }
   ],
   "source": [
    "data.plot(x='xcoordinate', y='ycoordinate',kind='scatter')"
   ]
  },
  {
   "cell_type": "code",
   "execution_count": 17,
   "metadata": {
    "collapsed": true
   },
   "outputs": [],
   "source": [
    "def filter_by_distict(district, data):\n",
    "    district = str(district)\n",
    "    result = []\n",
    "    for row in data:\n",
    "        if row[8] == district:\n",
    "            result.append(row)\n",
    "    return result\n",
    "\n"
   ]
  },
  {
   "cell_type": "code",
   "execution_count": null,
   "metadata": {
    "collapsed": true
   },
   "outputs": [],
   "source": [
    "def filter_by_column(key, value, data)"
   ]
  },
  {
   "cell_type": "code",
   "execution_count": 34,
   "metadata": {
    "collapsed": false
   },
   "outputs": [
    {
     "name": "stderr",
     "output_type": "stream",
     "text": [
      "C:\\Users\\skrzym\\Anaconda3\\lib\\site-packages\\ipykernel\\__main__.py:2: SettingWithCopyWarning: \n",
      "A value is trying to be set on a copy of a slice from a DataFrame.\n",
      "Try using .loc[row_indexer,col_indexer] = value instead\n",
      "\n",
      "See the caveats in the documentation: http://pandas.pydata.org/pandas-docs/stable/indexing.html#indexing-view-versus-copy\n",
      "  from ipykernel import kernelapp as app\n"
     ]
    }
   ],
   "source": [
    "pd_641 = data.loc[data.police_district == '641']\n",
    "pd_641['year'] = pd_641.report_date.apply(lambda x: x[0:4])\n",
    "pd_641_2014 = pd_641.loc[pd_641.year == '2014']"
   ]
  },
  {
   "cell_type": "code",
   "execution_count": 41,
   "metadata": {
    "collapsed": false
   },
   "outputs": [
    {
     "data": {
      "text/plain": [
       "array(['641'], dtype=object)"
      ]
     },
     "execution_count": 41,
     "metadata": {},
     "output_type": "execute_result"
    }
   ],
   "source": [
    "pd_641 = data.loc[data.police_district == '641']\n",
    "pd_641.police_district.unique()"
   ]
  },
  {
   "cell_type": "code",
   "execution_count": 43,
   "metadata": {
    "collapsed": false
   },
   "outputs": [
    {
     "name": "stderr",
     "output_type": "stream",
     "text": [
      "C:\\Users\\skrzym\\Anaconda3\\lib\\site-packages\\ipykernel\\__main__.py:1: SettingWithCopyWarning: \n",
      "A value is trying to be set on a copy of a slice from a DataFrame.\n",
      "Try using .loc[row_indexer,col_indexer] = value instead\n",
      "\n",
      "See the caveats in the documentation: http://pandas.pydata.org/pandas-docs/stable/indexing.html#indexing-view-versus-copy\n",
      "  if __name__ == '__main__':\n"
     ]
    },
    {
     "data": {
      "text/plain": [
       "array(['2014'], dtype=object)"
      ]
     },
     "execution_count": 43,
     "metadata": {},
     "output_type": "execute_result"
    }
   ],
   "source": [
    "pd_641['year'] = pd.to_datetime(pd_641.report_date)\n",
    "pd_641_2014 = pd_641.loc[pd_641.year == '2014']\n",
    "pd_641_2014.year.unique()"
   ]
  },
  {
   "cell_type": "code",
   "execution_count": 44,
   "metadata": {
    "collapsed": false
   },
   "outputs": [
    {
     "data": {
      "text/plain": [
       "{'Aggravated Assault': 34,\n",
       " 'Assault, Simple': 64,\n",
       " 'Burglary': 42,\n",
       " 'DUII': 18,\n",
       " 'Disorderly Conduct': 54,\n",
       " 'Drugs': 34,\n",
       " 'Forgery': 5,\n",
       " 'Fraud': 19,\n",
       " 'Homicide': 1,\n",
       " 'Kidnap': 1,\n",
       " 'Larceny': 199,\n",
       " 'Liquor Laws': 2,\n",
       " 'Motor Vehicle Theft': 27,\n",
       " 'Offenses Against Family': 1,\n",
       " 'Rape': 4,\n",
       " 'Robbery': 14,\n",
       " 'Runaway': 77,\n",
       " 'Sex Offenses': 11,\n",
       " 'Trespass': 30,\n",
       " 'Vandalism': 55,\n",
       " 'Weapons': 3}"
      ]
     },
     "execution_count": 44,
     "metadata": {},
     "output_type": "execute_result"
    }
   ],
   "source": [
    "pd_641_2014.major_offense_type.value_counts().to_dict()"
   ]
  },
  {
   "cell_type": "code",
   "execution_count": 45,
   "metadata": {
    "collapsed": false
   },
   "outputs": [
    {
     "name": "stderr",
     "output_type": "stream",
     "text": [
      "C:\\Users\\skrzym\\Anaconda3\\lib\\site-packages\\ipykernel\\__main__.py:1: SettingWithCopyWarning: \n",
      "A value is trying to be set on a copy of a slice from a DataFrame.\n",
      "Try using .loc[row_indexer,col_indexer] = value instead\n",
      "\n",
      "See the caveats in the documentation: http://pandas.pydata.org/pandas-docs/stable/indexing.html#indexing-view-versus-copy\n",
      "  if __name__ == '__main__':\n"
     ]
    }
   ],
   "source": [
    "pd_641['year'] = pd.to_datetime(pd_641.report_date)"
   ]
  },
  {
   "cell_type": "code",
   "execution_count": 48,
   "metadata": {
    "collapsed": false
   },
   "outputs": [
    {
     "data": {
      "text/plain": [
       "2014"
      ]
     },
     "execution_count": 48,
     "metadata": {},
     "output_type": "execute_result"
    }
   ],
   "source": [
    "pd_641.year.iloc[0].year"
   ]
  },
  {
   "cell_type": "code",
   "execution_count": null,
   "metadata": {
    "collapsed": true
   },
   "outputs": [],
   "source": []
  }
 ],
 "metadata": {
  "kernelspec": {
   "display_name": "Python 3",
   "language": "python",
   "name": "python3"
  },
  "language_info": {
   "codemirror_mode": {
    "name": "ipython",
    "version": 3
   },
   "file_extension": ".py",
   "mimetype": "text/x-python",
   "name": "python",
   "nbconvert_exporter": "python",
   "pygments_lexer": "ipython3",
   "version": "3.5.1"
  },
  "widgets": {
   "state": {},
   "version": "1.1.2"
  }
 },
 "nbformat": 4,
 "nbformat_minor": 0
}
