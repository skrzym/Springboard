{
 "cells": [
  {
   "cell_type": "code",
   "execution_count": 28,
   "metadata": {
    "collapsed": false
   },
   "outputs": [],
   "source": [
    "%matplotlib inline\n",
    "import json\n",
    "import pandas as pd\n",
    "import numpy as np\n",
    "from matplotlib import pyplot as plt\n",
    "import seaborn as sns\n",
    "from math import floor"
   ]
  },
  {
   "cell_type": "code",
   "execution_count": 2,
   "metadata": {
    "collapsed": true
   },
   "outputs": [],
   "source": [
    "tug = pd.read_csv('takehome_user_engagement.csv')"
   ]
  },
  {
   "cell_type": "code",
   "execution_count": 3,
   "metadata": {
    "collapsed": false
   },
   "outputs": [],
   "source": [
    "tu = pd.read_csv('takehome_users.csv', encoding='latin1')"
   ]
  },
  {
   "cell_type": "code",
   "execution_count": 4,
   "metadata": {
    "collapsed": false
   },
   "outputs": [],
   "source": [
    "tug.time_stamp = pd.to_datetime(tug.time_stamp)"
   ]
  },
  {
   "cell_type": "code",
   "execution_count": 5,
   "metadata": {
    "collapsed": false
   },
   "outputs": [],
   "source": [
    "tug = tug.set_index('time_stamp')"
   ]
  },
  {
   "cell_type": "code",
   "execution_count": 6,
   "metadata": {
    "collapsed": false
   },
   "outputs": [],
   "source": [
    "visits_by_user = tug.pivot_table('visited','user_id',aggfunc='sum').reset_index()"
   ]
  },
  {
   "cell_type": "code",
   "execution_count": 7,
   "metadata": {
    "collapsed": false
   },
   "outputs": [],
   "source": [
    "candidates = visits_by_user.loc[visits_by_user.visited > 2].user_id\n",
    "canlist = candidates.tolist()"
   ]
  },
  {
   "cell_type": "code",
   "execution_count": 8,
   "metadata": {
    "collapsed": false
   },
   "outputs": [],
   "source": [
    "tug_can = tug.loc[tug.user_id.apply(lambda x: x in canlist)]"
   ]
  },
  {
   "cell_type": "code",
   "execution_count": 9,
   "metadata": {
    "collapsed": false
   },
   "outputs": [
    {
     "data": {
      "text/plain": [
       "8823"
      ]
     },
     "execution_count": 9,
     "metadata": {},
     "output_type": "execute_result"
    }
   ],
   "source": [
    "len(tug.user_id.unique())"
   ]
  },
  {
   "cell_type": "code",
   "execution_count": 10,
   "metadata": {
    "collapsed": false
   },
   "outputs": [
    {
     "data": {
      "text/plain": [
       "Timedelta('736 days 06:38:44')"
      ]
     },
     "execution_count": 10,
     "metadata": {},
     "output_type": "execute_result"
    }
   ],
   "source": [
    "max(tug.index) - min(tug.index)"
   ]
  },
  {
   "cell_type": "code",
   "execution_count": 11,
   "metadata": {
    "collapsed": false
   },
   "outputs": [
    {
     "data": {
      "text/plain": [
       "time_stamp\n",
       "2013-11-15 03:45:04    1.0\n",
       "2013-11-22 03:45:04    NaN\n",
       "2013-11-29 03:45:04    1.0\n",
       "2013-12-06 03:45:04    1.0\n",
       "2013-12-13 03:45:04    NaN\n",
       "2013-12-20 03:45:04    1.0\n",
       "2013-12-27 03:45:04    1.0\n",
       "2014-01-03 03:45:04    1.0\n",
       "2014-01-10 03:45:04    NaN\n",
       "2014-01-17 03:45:04    NaN\n",
       "2014-01-24 03:45:04    NaN\n",
       "2014-01-31 03:45:04    1.0\n",
       "2014-02-07 03:45:04    3.0\n",
       "2014-02-14 03:45:04    1.0\n",
       "2014-02-21 03:45:04    NaN\n",
       "2014-02-28 03:45:04    NaN\n",
       "2014-03-07 03:45:04    2.0\n",
       "2014-03-14 03:45:04    NaN\n",
       "2014-03-21 03:45:04    NaN\n",
       "2014-03-28 03:45:04    1.0\n",
       "Freq: 7D, Name: visited, dtype: float64"
      ]
     },
     "execution_count": 11,
     "metadata": {},
     "output_type": "execute_result"
    }
   ],
   "source": [
    "tug[tug.user_id == 2].resample('7D').visited.sum()"
   ]
  },
  {
   "cell_type": "markdown",
   "metadata": {},
   "source": [
    "# Determine Adopted Users"
   ]
  },
  {
   "cell_type": "code",
   "execution_count": 12,
   "metadata": {
    "collapsed": true
   },
   "outputs": [],
   "source": [
    "def rolling_window_logins_check(logins_per_day, n_logins=3, window=7, min_periods=6):\n",
    "    logins = (logins_per_day.rolling(window=window, min_periods=min_periods).sum().dropna() >= n_logins).sum()\n",
    "    return logins >= n_logins"
   ]
  },
  {
   "cell_type": "code",
   "execution_count": 13,
   "metadata": {
    "collapsed": false
   },
   "outputs": [],
   "source": [
    "def make_logon_per_day_series(user_id):\n",
    "    term = tug[tug.user_id==user_id].resample(\"1d\").sum().fillna(0)['visited']\n",
    "    if len(term) > 0:\n",
    "        return term.apply(lambda x: x>0).astype(int)\n",
    "    else:\n",
    "        return term"
   ]
  },
  {
   "cell_type": "code",
   "execution_count": 14,
   "metadata": {
    "collapsed": false,
    "scrolled": true
   },
   "outputs": [
    {
     "data": {
      "text/plain": [
       "True"
      ]
     },
     "execution_count": 14,
     "metadata": {},
     "output_type": "execute_result"
    }
   ],
   "source": [
    "rolling_window_logins_check(make_logon_per_day_series(user_id = 10))"
   ]
  },
  {
   "cell_type": "code",
   "execution_count": 15,
   "metadata": {
    "collapsed": false
   },
   "outputs": [],
   "source": [
    "active_user = []\n",
    "for user_id  in tug.user_id.unique().tolist():\n",
    "    active_user.append({'user_id':user_id,'active':rolling_window_logins_check(make_logon_per_day_series(user_id))})"
   ]
  },
  {
   "cell_type": "code",
   "execution_count": 16,
   "metadata": {
    "collapsed": false
   },
   "outputs": [],
   "source": [
    "actives_df = pd.DataFrame.from_records(active_user).set_index('user_id')"
   ]
  },
  {
   "cell_type": "code",
   "execution_count": 17,
   "metadata": {
    "collapsed": false
   },
   "outputs": [],
   "source": [
    "def get_user_active_flag(user_id):\n",
    "    try:\n",
    "        return actives_df.active[user_id]\n",
    "    except:\n",
    "        return False"
   ]
  },
  {
   "cell_type": "code",
   "execution_count": 18,
   "metadata": {
    "collapsed": false
   },
   "outputs": [
    {
     "data": {
      "text/html": [
       "<div>\n",
       "<table border=\"1\" class=\"dataframe\">\n",
       "  <thead>\n",
       "    <tr style=\"text-align: right;\">\n",
       "      <th></th>\n",
       "      <th>active</th>\n",
       "    </tr>\n",
       "    <tr>\n",
       "      <th>user_id</th>\n",
       "      <th></th>\n",
       "    </tr>\n",
       "  </thead>\n",
       "  <tbody>\n",
       "    <tr>\n",
       "      <th>1</th>\n",
       "      <td>False</td>\n",
       "    </tr>\n",
       "    <tr>\n",
       "      <th>2</th>\n",
       "      <td>True</td>\n",
       "    </tr>\n",
       "    <tr>\n",
       "      <th>3</th>\n",
       "      <td>False</td>\n",
       "    </tr>\n",
       "    <tr>\n",
       "      <th>4</th>\n",
       "      <td>False</td>\n",
       "    </tr>\n",
       "    <tr>\n",
       "      <th>5</th>\n",
       "      <td>False</td>\n",
       "    </tr>\n",
       "  </tbody>\n",
       "</table>\n",
       "</div>"
      ],
      "text/plain": [
       "        active\n",
       "user_id       \n",
       "1        False\n",
       "2         True\n",
       "3        False\n",
       "4        False\n",
       "5        False"
      ]
     },
     "execution_count": 18,
     "metadata": {},
     "output_type": "execute_result"
    }
   ],
   "source": [
    "actives_df.head()"
   ]
  },
  {
   "cell_type": "code",
   "execution_count": 19,
   "metadata": {
    "collapsed": false
   },
   "outputs": [],
   "source": [
    "tu['active'] = tu.object_id.apply(get_user_active_flag)"
   ]
  },
  {
   "cell_type": "markdown",
   "metadata": {},
   "source": [
    "# Creating our Model's Dataset"
   ]
  },
  {
   "cell_type": "markdown",
   "metadata": {},
   "source": [
    "We don't need the user_id or their name"
   ]
  },
  {
   "cell_type": "code",
   "execution_count": 20,
   "metadata": {
    "collapsed": true
   },
   "outputs": [],
   "source": [
    "model_tu = tu.copy()\n",
    "model_tu = model_tu.drop(['object_id', 'name'], axis=1)"
   ]
  },
  {
   "cell_type": "markdown",
   "metadata": {},
   "source": [
    "Convert the datetime strings into datetime objects"
   ]
  },
  {
   "cell_type": "code",
   "execution_count": 21,
   "metadata": {
    "collapsed": false,
    "scrolled": true
   },
   "outputs": [],
   "source": [
    "model_tu.last_session_creation_time = pd.to_datetime(model_tu.last_session_creation_time,unit='s')\n",
    "model_tu.creation_time = pd.to_datetime(model_tu.creation_time)"
   ]
  },
  {
   "cell_type": "markdown",
   "metadata": {},
   "source": [
    "User's age indicates the length of time between their first session (if any) and their last session"
   ]
  },
  {
   "cell_type": "code",
   "execution_count": 22,
   "metadata": {
    "collapsed": false
   },
   "outputs": [],
   "source": [
    "model_tu['age'] = model_tu.last_session_creation_time-model_tu.creation_time"
   ]
  },
  {
   "cell_type": "code",
   "execution_count": 23,
   "metadata": {
    "collapsed": false
   },
   "outputs": [
    {
     "data": {
      "text/plain": [
       "0     0 days\n",
       "1   136 days\n",
       "2     0 days\n",
       "3     1 days\n",
       "4     5 days\n",
       "Name: age, dtype: timedelta64[ns]"
      ]
     },
     "execution_count": 23,
     "metadata": {},
     "output_type": "execute_result"
    }
   ],
   "source": [
    "model_tu.age.fillna(0).head()"
   ]
  },
  {
   "cell_type": "code",
   "execution_count": 24,
   "metadata": {
    "collapsed": false
   },
   "outputs": [],
   "source": [
    "model_tu.age = model_tu.age.dt.days.fillna(0).astype(int)"
   ]
  },
  {
   "cell_type": "markdown",
   "metadata": {},
   "source": [
    "The 'org_id' indicates what organization the user is apart of. Most organizations contain fewer than 50 users."
   ]
  },
  {
   "cell_type": "code",
   "execution_count": 25,
   "metadata": {
    "collapsed": false
   },
   "outputs": [
    {
     "data": {
      "text/plain": [
       "<matplotlib.axes._subplots.AxesSubplot at 0x2d4a8c3ba20>"
      ]
     },
     "execution_count": 25,
     "metadata": {},
     "output_type": "execute_result"
    },
    {
     "data": {
      "image/png": "[encoded data removed]",
      "text/plain": [
       "<matplotlib.figure.Figure at 0x2d4a8c47ef0>"
      ]
     },
     "metadata": {},
     "output_type": "display_data"
    }
   ],
   "source": [
    "model_tu.org_id.value_counts().plot(kind='hist', bins=48)"
   ]
  },
  {
   "cell_type": "code",
   "execution_count": 26,
   "metadata": {
    "collapsed": false
   },
   "outputs": [],
   "source": [
    "def group_by_x(value, x):\n",
    "    return floor(value / x) * x"
   ]
  },
  {
   "cell_type": "code",
   "execution_count": 29,
   "metadata": {
    "collapsed": false
   },
   "outputs": [],
   "source": [
    "org_counts = model_tu.org_id.value_counts()\n",
    "org_counts = org_counts.apply(lambda x: group_by_x(x, 1))\n",
    "model_tu['org_size'] = model_tu.org_id.apply(lambda x: org_counts.loc[x])"
   ]
  },
  {
   "cell_type": "code",
   "execution_count": 30,
   "metadata": {
    "collapsed": false
   },
   "outputs": [
    {
     "data": {
      "text/html": [
       "<div>\n",
       "<table border=\"1\" class=\"dataframe\">\n",
       "  <thead>\n",
       "    <tr style=\"text-align: right;\">\n",
       "      <th></th>\n",
       "      <th>creation_time</th>\n",
       "      <th>email</th>\n",
       "      <th>creation_source</th>\n",
       "      <th>last_session_creation_time</th>\n",
       "      <th>opted_in_to_mailing_list</th>\n",
       "      <th>enabled_for_marketing_drip</th>\n",
       "      <th>org_id</th>\n",
       "      <th>invited_by_user_id</th>\n",
       "      <th>active</th>\n",
       "      <th>age</th>\n",
       "      <th>org_size</th>\n",
       "    </tr>\n",
       "  </thead>\n",
       "  <tbody>\n",
       "    <tr>\n",
       "      <th>0</th>\n",
       "      <td>2014-04-22 03:53:30</td>\n",
       "      <td>AugustCClausen@yahoo.com</td>\n",
       "      <td>GUEST_INVITE</td>\n",
       "      <td>2014-04-22 03:53:30</td>\n",
       "      <td>1</td>\n",
       "      <td>0</td>\n",
       "      <td>11</td>\n",
       "      <td>10803.0</td>\n",
       "      <td>False</td>\n",
       "      <td>0</td>\n",
       "      <td>75</td>\n",
       "    </tr>\n",
       "    <tr>\n",
       "      <th>1</th>\n",
       "      <td>2013-11-15 03:45:04</td>\n",
       "      <td>MatthewPoole@gustr.com</td>\n",
       "      <td>ORG_INVITE</td>\n",
       "      <td>2014-03-31 03:45:04</td>\n",
       "      <td>0</td>\n",
       "      <td>0</td>\n",
       "      <td>1</td>\n",
       "      <td>316.0</td>\n",
       "      <td>True</td>\n",
       "      <td>136</td>\n",
       "      <td>233</td>\n",
       "    </tr>\n",
       "    <tr>\n",
       "      <th>2</th>\n",
       "      <td>2013-03-19 23:14:52</td>\n",
       "      <td>MitchellBottrill@gustr.com</td>\n",
       "      <td>ORG_INVITE</td>\n",
       "      <td>2013-03-19 23:14:52</td>\n",
       "      <td>0</td>\n",
       "      <td>0</td>\n",
       "      <td>94</td>\n",
       "      <td>1525.0</td>\n",
       "      <td>False</td>\n",
       "      <td>0</td>\n",
       "      <td>32</td>\n",
       "    </tr>\n",
       "    <tr>\n",
       "      <th>3</th>\n",
       "      <td>2013-05-21 08:09:28</td>\n",
       "      <td>NicklasSClausen@yahoo.com</td>\n",
       "      <td>GUEST_INVITE</td>\n",
       "      <td>2013-05-22 08:09:28</td>\n",
       "      <td>0</td>\n",
       "      <td>0</td>\n",
       "      <td>1</td>\n",
       "      <td>5151.0</td>\n",
       "      <td>False</td>\n",
       "      <td>1</td>\n",
       "      <td>233</td>\n",
       "    </tr>\n",
       "    <tr>\n",
       "      <th>4</th>\n",
       "      <td>2013-01-17 10:14:20</td>\n",
       "      <td>GraceRaw@yahoo.com</td>\n",
       "      <td>GUEST_INVITE</td>\n",
       "      <td>2013-01-22 10:14:20</td>\n",
       "      <td>0</td>\n",
       "      <td>0</td>\n",
       "      <td>193</td>\n",
       "      <td>5240.0</td>\n",
       "      <td>False</td>\n",
       "      <td>5</td>\n",
       "      <td>16</td>\n",
       "    </tr>\n",
       "    <tr>\n",
       "      <th>5</th>\n",
       "      <td>2013-12-17 03:37:06</td>\n",
       "      <td>EduardoPereiraCunha@yahoo.com</td>\n",
       "      <td>GUEST_INVITE</td>\n",
       "      <td>2013-12-19 03:37:06</td>\n",
       "      <td>0</td>\n",
       "      <td>0</td>\n",
       "      <td>197</td>\n",
       "      <td>11241.0</td>\n",
       "      <td>False</td>\n",
       "      <td>2</td>\n",
       "      <td>14</td>\n",
       "    </tr>\n",
       "    <tr>\n",
       "      <th>6</th>\n",
       "      <td>2012-12-16 13:24:32</td>\n",
       "      <td>TylerSewell@jourrapide.com</td>\n",
       "      <td>SIGNUP</td>\n",
       "      <td>2012-12-20 13:24:32</td>\n",
       "      <td>0</td>\n",
       "      <td>1</td>\n",
       "      <td>37</td>\n",
       "      <td>NaN</td>\n",
       "      <td>False</td>\n",
       "      <td>4</td>\n",
       "      <td>44</td>\n",
       "    </tr>\n",
       "    <tr>\n",
       "      <th>7</th>\n",
       "      <td>2013-07-31 05:34:02</td>\n",
       "      <td>DanielleHamilton@yahoo.com</td>\n",
       "      <td>PERSONAL_PROJECTS</td>\n",
       "      <td>NaT</td>\n",
       "      <td>1</td>\n",
       "      <td>1</td>\n",
       "      <td>74</td>\n",
       "      <td>NaN</td>\n",
       "      <td>False</td>\n",
       "      <td>0</td>\n",
       "      <td>38</td>\n",
       "    </tr>\n",
       "    <tr>\n",
       "      <th>8</th>\n",
       "      <td>2013-11-05 04:04:24</td>\n",
       "      <td>PaulAmsel@hotmail.com</td>\n",
       "      <td>PERSONAL_PROJECTS</td>\n",
       "      <td>NaT</td>\n",
       "      <td>0</td>\n",
       "      <td>0</td>\n",
       "      <td>302</td>\n",
       "      <td>NaN</td>\n",
       "      <td>False</td>\n",
       "      <td>0</td>\n",
       "      <td>19</td>\n",
       "    </tr>\n",
       "    <tr>\n",
       "      <th>9</th>\n",
       "      <td>2013-01-16 22:08:03</td>\n",
       "      <td>CarlaFerreiraSantos@gustr.com</td>\n",
       "      <td>ORG_INVITE</td>\n",
       "      <td>2014-06-03 22:08:03</td>\n",
       "      <td>1</td>\n",
       "      <td>1</td>\n",
       "      <td>318</td>\n",
       "      <td>4143.0</td>\n",
       "      <td>True</td>\n",
       "      <td>503</td>\n",
       "      <td>17</td>\n",
       "    </tr>\n",
       "    <tr>\n",
       "      <th>10</th>\n",
       "      <td>2013-12-26 03:55:54</td>\n",
       "      <td>MaltheAPaulsen@gustr.com</td>\n",
       "      <td>SIGNUP</td>\n",
       "      <td>2013-12-27 03:55:54</td>\n",
       "      <td>0</td>\n",
       "      <td>0</td>\n",
       "      <td>69</td>\n",
       "      <td>NaN</td>\n",
       "      <td>False</td>\n",
       "      <td>1</td>\n",
       "      <td>38</td>\n",
       "    </tr>\n",
       "    <tr>\n",
       "      <th>11</th>\n",
       "      <td>2014-04-17 23:48:38</td>\n",
       "      <td>LaerkeLMathiesen@cuvox.de</td>\n",
       "      <td>ORG_INVITE</td>\n",
       "      <td>NaT</td>\n",
       "      <td>0</td>\n",
       "      <td>0</td>\n",
       "      <td>130</td>\n",
       "      <td>9270.0</td>\n",
       "      <td>False</td>\n",
       "      <td>0</td>\n",
       "      <td>25</td>\n",
       "    </tr>\n",
       "    <tr>\n",
       "      <th>12</th>\n",
       "      <td>2014-03-30 16:19:38</td>\n",
       "      <td>AlexanderDFry@cuvox.de</td>\n",
       "      <td>ORG_INVITE</td>\n",
       "      <td>2014-03-30 16:19:38</td>\n",
       "      <td>0</td>\n",
       "      <td>0</td>\n",
       "      <td>254</td>\n",
       "      <td>11204.0</td>\n",
       "      <td>False</td>\n",
       "      <td>0</td>\n",
       "      <td>29</td>\n",
       "    </tr>\n",
       "    <tr>\n",
       "      <th>13</th>\n",
       "      <td>2012-10-11 16:14:33</td>\n",
       "      <td>BretKRivera@gmail.com</td>\n",
       "      <td>SIGNUP</td>\n",
       "      <td>2012-10-12 16:14:33</td>\n",
       "      <td>0</td>\n",
       "      <td>0</td>\n",
       "      <td>0</td>\n",
       "      <td>NaN</td>\n",
       "      <td>False</td>\n",
       "      <td>1</td>\n",
       "      <td>319</td>\n",
       "    </tr>\n",
       "    <tr>\n",
       "      <th>14</th>\n",
       "      <td>2013-07-16 21:33:54</td>\n",
       "      <td>RalfTheiss@hotmail.com</td>\n",
       "      <td>PERSONAL_PROJECTS</td>\n",
       "      <td>NaT</td>\n",
       "      <td>0</td>\n",
       "      <td>0</td>\n",
       "      <td>175</td>\n",
       "      <td>NaN</td>\n",
       "      <td>False</td>\n",
       "      <td>0</td>\n",
       "      <td>24</td>\n",
       "    </tr>\n",
       "    <tr>\n",
       "      <th>15</th>\n",
       "      <td>2013-02-11 10:09:50</td>\n",
       "      <td>ReneEngel@hotmail.com</td>\n",
       "      <td>PERSONAL_PROJECTS</td>\n",
       "      <td>NaT</td>\n",
       "      <td>0</td>\n",
       "      <td>0</td>\n",
       "      <td>211</td>\n",
       "      <td>NaN</td>\n",
       "      <td>False</td>\n",
       "      <td>0</td>\n",
       "      <td>20</td>\n",
       "    </tr>\n",
       "    <tr>\n",
       "      <th>16</th>\n",
       "      <td>2014-04-09 14:39:38</td>\n",
       "      <td>AnthonyReynolds@jourrapide.com</td>\n",
       "      <td>GUEST_INVITE</td>\n",
       "      <td>2014-04-12 14:39:38</td>\n",
       "      <td>1</td>\n",
       "      <td>0</td>\n",
       "      <td>175</td>\n",
       "      <td>1600.0</td>\n",
       "      <td>False</td>\n",
       "      <td>3</td>\n",
       "      <td>24</td>\n",
       "    </tr>\n",
       "    <tr>\n",
       "      <th>17</th>\n",
       "      <td>2013-08-24 00:26:46</td>\n",
       "      <td>CelinaAGregersen@jourrapide.com</td>\n",
       "      <td>GUEST_INVITE</td>\n",
       "      <td>NaT</td>\n",
       "      <td>0</td>\n",
       "      <td>0</td>\n",
       "      <td>2</td>\n",
       "      <td>3153.0</td>\n",
       "      <td>False</td>\n",
       "      <td>0</td>\n",
       "      <td>201</td>\n",
       "    </tr>\n",
       "    <tr>\n",
       "      <th>18</th>\n",
       "      <td>2013-05-24 14:56:36</td>\n",
       "      <td>ArleneRCollins@gmail.com</td>\n",
       "      <td>SIGNUP</td>\n",
       "      <td>2013-05-30 14:56:36</td>\n",
       "      <td>1</td>\n",
       "      <td>0</td>\n",
       "      <td>0</td>\n",
       "      <td>NaN</td>\n",
       "      <td>False</td>\n",
       "      <td>6</td>\n",
       "      <td>319</td>\n",
       "    </tr>\n",
       "    <tr>\n",
       "      <th>19</th>\n",
       "      <td>2014-03-06 11:46:38</td>\n",
       "      <td>lqyvjilf@uhzdq.com</td>\n",
       "      <td>SIGNUP</td>\n",
       "      <td>2014-05-29 11:46:38</td>\n",
       "      <td>0</td>\n",
       "      <td>0</td>\n",
       "      <td>58</td>\n",
       "      <td>NaN</td>\n",
       "      <td>False</td>\n",
       "      <td>84</td>\n",
       "      <td>42</td>\n",
       "    </tr>\n",
       "    <tr>\n",
       "      <th>20</th>\n",
       "      <td>2013-01-22 12:27:42</td>\n",
       "      <td>AlfieHunter@gmail.com</td>\n",
       "      <td>PERSONAL_PROJECTS</td>\n",
       "      <td>2013-01-22 12:27:42</td>\n",
       "      <td>0</td>\n",
       "      <td>0</td>\n",
       "      <td>54</td>\n",
       "      <td>NaN</td>\n",
       "      <td>False</td>\n",
       "      <td>0</td>\n",
       "      <td>44</td>\n",
       "    </tr>\n",
       "    <tr>\n",
       "      <th>21</th>\n",
       "      <td>2014-02-10 06:00:46</td>\n",
       "      <td>JordanMyers@gmail.com</td>\n",
       "      <td>ORG_INVITE</td>\n",
       "      <td>2014-02-10 06:00:46</td>\n",
       "      <td>0</td>\n",
       "      <td>0</td>\n",
       "      <td>7</td>\n",
       "      <td>2994.0</td>\n",
       "      <td>False</td>\n",
       "      <td>0</td>\n",
       "      <td>119</td>\n",
       "    </tr>\n",
       "    <tr>\n",
       "      <th>22</th>\n",
       "      <td>2012-08-17 08:30:27</td>\n",
       "      <td>AliceAraujoSouza@gustr.com</td>\n",
       "      <td>ORG_INVITE</td>\n",
       "      <td>2012-08-18 08:30:27</td>\n",
       "      <td>1</td>\n",
       "      <td>0</td>\n",
       "      <td>6</td>\n",
       "      <td>23.0</td>\n",
       "      <td>False</td>\n",
       "      <td>1</td>\n",
       "      <td>138</td>\n",
       "    </tr>\n",
       "    <tr>\n",
       "      <th>23</th>\n",
       "      <td>2013-09-09 22:20:03</td>\n",
       "      <td>JamesTWoodruff@cuvox.de</td>\n",
       "      <td>SIGNUP</td>\n",
       "      <td>2013-09-09 22:20:03</td>\n",
       "      <td>1</td>\n",
       "      <td>0</td>\n",
       "      <td>123</td>\n",
       "      <td>NaN</td>\n",
       "      <td>False</td>\n",
       "      <td>0</td>\n",
       "      <td>24</td>\n",
       "    </tr>\n",
       "    <tr>\n",
       "      <th>24</th>\n",
       "      <td>2014-02-25 00:11:13</td>\n",
       "      <td>EliseStone@jourrapide.com</td>\n",
       "      <td>GUEST_INVITE</td>\n",
       "      <td>2014-02-26 00:11:13</td>\n",
       "      <td>1</td>\n",
       "      <td>0</td>\n",
       "      <td>81</td>\n",
       "      <td>6312.0</td>\n",
       "      <td>False</td>\n",
       "      <td>1</td>\n",
       "      <td>27</td>\n",
       "    </tr>\n",
       "    <tr>\n",
       "      <th>25</th>\n",
       "      <td>2013-07-28 00:53:32</td>\n",
       "      <td>FlorianWexler@jourrapide.com</td>\n",
       "      <td>ORG_INVITE</td>\n",
       "      <td>NaT</td>\n",
       "      <td>0</td>\n",
       "      <td>0</td>\n",
       "      <td>56</td>\n",
       "      <td>11857.0</td>\n",
       "      <td>False</td>\n",
       "      <td>0</td>\n",
       "      <td>35</td>\n",
       "    </tr>\n",
       "    <tr>\n",
       "      <th>26</th>\n",
       "      <td>2014-01-14 17:35:11</td>\n",
       "      <td>LuisPintoSantos@gmail.com</td>\n",
       "      <td>ORG_INVITE</td>\n",
       "      <td>2014-01-15 17:35:11</td>\n",
       "      <td>0</td>\n",
       "      <td>0</td>\n",
       "      <td>134</td>\n",
       "      <td>4189.0</td>\n",
       "      <td>False</td>\n",
       "      <td>1</td>\n",
       "      <td>26</td>\n",
       "    </tr>\n",
       "    <tr>\n",
       "      <th>27</th>\n",
       "      <td>2013-02-11 20:00:25</td>\n",
       "      <td>MarkoWeissmuller@jourrapide.com</td>\n",
       "      <td>SIGNUP</td>\n",
       "      <td>2013-02-14 20:00:25</td>\n",
       "      <td>0</td>\n",
       "      <td>0</td>\n",
       "      <td>6</td>\n",
       "      <td>NaN</td>\n",
       "      <td>False</td>\n",
       "      <td>3</td>\n",
       "      <td>138</td>\n",
       "    </tr>\n",
       "    <tr>\n",
       "      <th>28</th>\n",
       "      <td>2013-09-16 02:08:41</td>\n",
       "      <td>EvelynSousaFernandes@jourrapide.com</td>\n",
       "      <td>SIGNUP</td>\n",
       "      <td>2013-09-17 02:08:41</td>\n",
       "      <td>0</td>\n",
       "      <td>0</td>\n",
       "      <td>92</td>\n",
       "      <td>NaN</td>\n",
       "      <td>False</td>\n",
       "      <td>1</td>\n",
       "      <td>30</td>\n",
       "    </tr>\n",
       "    <tr>\n",
       "      <th>29</th>\n",
       "      <td>2013-06-04 00:44:25</td>\n",
       "      <td>LeahEgger@jourrapide.com</td>\n",
       "      <td>GUEST_INVITE</td>\n",
       "      <td>2013-06-04 00:44:25</td>\n",
       "      <td>0</td>\n",
       "      <td>0</td>\n",
       "      <td>251</td>\n",
       "      <td>4835.0</td>\n",
       "      <td>False</td>\n",
       "      <td>0</td>\n",
       "      <td>17</td>\n",
       "    </tr>\n",
       "    <tr>\n",
       "      <th>...</th>\n",
       "      <td>...</td>\n",
       "      <td>...</td>\n",
       "      <td>...</td>\n",
       "      <td>...</td>\n",
       "      <td>...</td>\n",
       "      <td>...</td>\n",
       "      <td>...</td>\n",
       "      <td>...</td>\n",
       "      <td>...</td>\n",
       "      <td>...</td>\n",
       "      <td>...</td>\n",
       "    </tr>\n",
       "    <tr>\n",
       "      <th>11970</th>\n",
       "      <td>2013-05-04 06:54:23</td>\n",
       "      <td>BeatriceBarbosaFerreira@yahoo.com</td>\n",
       "      <td>GUEST_INVITE</td>\n",
       "      <td>NaT</td>\n",
       "      <td>0</td>\n",
       "      <td>0</td>\n",
       "      <td>3</td>\n",
       "      <td>11854.0</td>\n",
       "      <td>False</td>\n",
       "      <td>0</td>\n",
       "      <td>168</td>\n",
       "    </tr>\n",
       "    <tr>\n",
       "      <th>11971</th>\n",
       "      <td>2012-09-13 23:23:11</td>\n",
       "      <td>JamiePenington@yahoo.com</td>\n",
       "      <td>ORG_INVITE</td>\n",
       "      <td>NaT</td>\n",
       "      <td>0</td>\n",
       "      <td>0</td>\n",
       "      <td>16</td>\n",
       "      <td>7012.0</td>\n",
       "      <td>False</td>\n",
       "      <td>0</td>\n",
       "      <td>72</td>\n",
       "    </tr>\n",
       "    <tr>\n",
       "      <th>11972</th>\n",
       "      <td>2012-10-30 03:09:47</td>\n",
       "      <td>ThomasSimmons@gmail.com</td>\n",
       "      <td>PERSONAL_PROJECTS</td>\n",
       "      <td>NaT</td>\n",
       "      <td>0</td>\n",
       "      <td>0</td>\n",
       "      <td>52</td>\n",
       "      <td>NaN</td>\n",
       "      <td>False</td>\n",
       "      <td>0</td>\n",
       "      <td>41</td>\n",
       "    </tr>\n",
       "    <tr>\n",
       "      <th>11973</th>\n",
       "      <td>2012-12-26 16:42:08</td>\n",
       "      <td>JamesJScott@gmail.com</td>\n",
       "      <td>SIGNUP</td>\n",
       "      <td>2012-12-28 16:42:08</td>\n",
       "      <td>0</td>\n",
       "      <td>0</td>\n",
       "      <td>167</td>\n",
       "      <td>NaN</td>\n",
       "      <td>False</td>\n",
       "      <td>2</td>\n",
       "      <td>28</td>\n",
       "    </tr>\n",
       "    <tr>\n",
       "      <th>11974</th>\n",
       "      <td>2013-03-23 11:10:11</td>\n",
       "      <td>JurgenDaecher@gustr.com</td>\n",
       "      <td>GUEST_INVITE</td>\n",
       "      <td>2014-05-22 11:10:11</td>\n",
       "      <td>1</td>\n",
       "      <td>0</td>\n",
       "      <td>31</td>\n",
       "      <td>6410.0</td>\n",
       "      <td>True</td>\n",
       "      <td>425</td>\n",
       "      <td>54</td>\n",
       "    </tr>\n",
       "    <tr>\n",
       "      <th>11975</th>\n",
       "      <td>2013-12-25 22:01:41</td>\n",
       "      <td>LeahKohl@hotmail.com</td>\n",
       "      <td>PERSONAL_PROJECTS</td>\n",
       "      <td>NaT</td>\n",
       "      <td>0</td>\n",
       "      <td>0</td>\n",
       "      <td>248</td>\n",
       "      <td>NaN</td>\n",
       "      <td>False</td>\n",
       "      <td>0</td>\n",
       "      <td>21</td>\n",
       "    </tr>\n",
       "    <tr>\n",
       "      <th>11976</th>\n",
       "      <td>2013-09-17 18:58:51</td>\n",
       "      <td>JoshuaHCrary@gmail.com</td>\n",
       "      <td>SIGNUP_GOOGLE_AUTH</td>\n",
       "      <td>2013-09-20 18:58:51</td>\n",
       "      <td>0</td>\n",
       "      <td>0</td>\n",
       "      <td>144</td>\n",
       "      <td>NaN</td>\n",
       "      <td>False</td>\n",
       "      <td>3</td>\n",
       "      <td>37</td>\n",
       "    </tr>\n",
       "    <tr>\n",
       "      <th>11977</th>\n",
       "      <td>2014-04-23 16:28:06</td>\n",
       "      <td>PedroCunhaCastro@gustr.com</td>\n",
       "      <td>PERSONAL_PROJECTS</td>\n",
       "      <td>NaT</td>\n",
       "      <td>1</td>\n",
       "      <td>0</td>\n",
       "      <td>29</td>\n",
       "      <td>NaN</td>\n",
       "      <td>False</td>\n",
       "      <td>0</td>\n",
       "      <td>50</td>\n",
       "    </tr>\n",
       "    <tr>\n",
       "      <th>11978</th>\n",
       "      <td>2013-01-28 09:26:33</td>\n",
       "      <td>HarleyHurst@yahoo.com</td>\n",
       "      <td>SIGNUP</td>\n",
       "      <td>2013-01-31 09:26:33</td>\n",
       "      <td>0</td>\n",
       "      <td>0</td>\n",
       "      <td>2</td>\n",
       "      <td>NaN</td>\n",
       "      <td>False</td>\n",
       "      <td>3</td>\n",
       "      <td>201</td>\n",
       "    </tr>\n",
       "    <tr>\n",
       "      <th>11979</th>\n",
       "      <td>2014-02-02 15:23:18</td>\n",
       "      <td>ljnnbqdr@cgbld.com</td>\n",
       "      <td>ORG_INVITE</td>\n",
       "      <td>2014-04-18 15:23:18</td>\n",
       "      <td>0</td>\n",
       "      <td>0</td>\n",
       "      <td>406</td>\n",
       "      <td>3068.0</td>\n",
       "      <td>False</td>\n",
       "      <td>75</td>\n",
       "      <td>23</td>\n",
       "    </tr>\n",
       "    <tr>\n",
       "      <th>11980</th>\n",
       "      <td>2013-03-05 01:53:48</td>\n",
       "      <td>TylerFry@gmail.com</td>\n",
       "      <td>GUEST_INVITE</td>\n",
       "      <td>2013-04-02 01:53:48</td>\n",
       "      <td>0</td>\n",
       "      <td>0</td>\n",
       "      <td>110</td>\n",
       "      <td>5775.0</td>\n",
       "      <td>False</td>\n",
       "      <td>28</td>\n",
       "      <td>29</td>\n",
       "    </tr>\n",
       "    <tr>\n",
       "      <th>11981</th>\n",
       "      <td>2013-12-06 14:39:15</td>\n",
       "      <td>MariaCBarajas@gmail.com</td>\n",
       "      <td>ORG_INVITE</td>\n",
       "      <td>2013-12-06 14:39:15</td>\n",
       "      <td>1</td>\n",
       "      <td>1</td>\n",
       "      <td>57</td>\n",
       "      <td>2527.0</td>\n",
       "      <td>False</td>\n",
       "      <td>0</td>\n",
       "      <td>48</td>\n",
       "    </tr>\n",
       "    <tr>\n",
       "      <th>11982</th>\n",
       "      <td>2013-07-30 00:23:36</td>\n",
       "      <td>MikeEngel@gmail.com</td>\n",
       "      <td>SIGNUP_GOOGLE_AUTH</td>\n",
       "      <td>2013-07-30 00:23:36</td>\n",
       "      <td>0</td>\n",
       "      <td>0</td>\n",
       "      <td>234</td>\n",
       "      <td>NaN</td>\n",
       "      <td>False</td>\n",
       "      <td>0</td>\n",
       "      <td>24</td>\n",
       "    </tr>\n",
       "    <tr>\n",
       "      <th>11983</th>\n",
       "      <td>2014-02-11 21:26:11</td>\n",
       "      <td>CerysReed@yahoo.com</td>\n",
       "      <td>SIGNUP</td>\n",
       "      <td>2014-02-11 21:26:11</td>\n",
       "      <td>0</td>\n",
       "      <td>0</td>\n",
       "      <td>170</td>\n",
       "      <td>NaN</td>\n",
       "      <td>False</td>\n",
       "      <td>0</td>\n",
       "      <td>24</td>\n",
       "    </tr>\n",
       "    <tr>\n",
       "      <th>11984</th>\n",
       "      <td>2013-07-08 17:23:26</td>\n",
       "      <td>MarcusTJespersen@cuvox.de</td>\n",
       "      <td>PERSONAL_PROJECTS</td>\n",
       "      <td>NaT</td>\n",
       "      <td>0</td>\n",
       "      <td>0</td>\n",
       "      <td>74</td>\n",
       "      <td>NaN</td>\n",
       "      <td>False</td>\n",
       "      <td>0</td>\n",
       "      <td>38</td>\n",
       "    </tr>\n",
       "    <tr>\n",
       "      <th>11985</th>\n",
       "      <td>2012-06-24 01:02:14</td>\n",
       "      <td>ClaraBarrosRibeiro@gmail.com</td>\n",
       "      <td>SIGNUP_GOOGLE_AUTH</td>\n",
       "      <td>2012-07-01 01:02:14</td>\n",
       "      <td>0</td>\n",
       "      <td>0</td>\n",
       "      <td>111</td>\n",
       "      <td>NaN</td>\n",
       "      <td>False</td>\n",
       "      <td>7</td>\n",
       "      <td>19</td>\n",
       "    </tr>\n",
       "    <tr>\n",
       "      <th>11986</th>\n",
       "      <td>2013-03-15 03:21:01</td>\n",
       "      <td>ftdkorrj@uyhoy.com</td>\n",
       "      <td>SIGNUP</td>\n",
       "      <td>2013-03-15 03:21:01</td>\n",
       "      <td>0</td>\n",
       "      <td>0</td>\n",
       "      <td>1</td>\n",
       "      <td>NaN</td>\n",
       "      <td>False</td>\n",
       "      <td>0</td>\n",
       "      <td>233</td>\n",
       "    </tr>\n",
       "    <tr>\n",
       "      <th>11987</th>\n",
       "      <td>2014-03-15 11:04:47</td>\n",
       "      <td>JohnFMinick@yahoo.com</td>\n",
       "      <td>PERSONAL_PROJECTS</td>\n",
       "      <td>2014-06-01 11:04:47</td>\n",
       "      <td>0</td>\n",
       "      <td>0</td>\n",
       "      <td>114</td>\n",
       "      <td>NaN</td>\n",
       "      <td>True</td>\n",
       "      <td>78</td>\n",
       "      <td>18</td>\n",
       "    </tr>\n",
       "    <tr>\n",
       "      <th>11988</th>\n",
       "      <td>2013-09-02 11:24:33</td>\n",
       "      <td>EmillyOliveiraPereira@gmail.com</td>\n",
       "      <td>SIGNUP_GOOGLE_AUTH</td>\n",
       "      <td>2013-09-07 11:24:33</td>\n",
       "      <td>1</td>\n",
       "      <td>0</td>\n",
       "      <td>22</td>\n",
       "      <td>NaN</td>\n",
       "      <td>False</td>\n",
       "      <td>5</td>\n",
       "      <td>58</td>\n",
       "    </tr>\n",
       "    <tr>\n",
       "      <th>11989</th>\n",
       "      <td>2013-07-05 21:00:48</td>\n",
       "      <td>AasePJuhl@jourrapide.com</td>\n",
       "      <td>ORG_INVITE</td>\n",
       "      <td>2013-07-06 21:00:48</td>\n",
       "      <td>0</td>\n",
       "      <td>0</td>\n",
       "      <td>25</td>\n",
       "      <td>3944.0</td>\n",
       "      <td>False</td>\n",
       "      <td>1</td>\n",
       "      <td>62</td>\n",
       "    </tr>\n",
       "    <tr>\n",
       "      <th>11990</th>\n",
       "      <td>2014-04-20 14:22:45</td>\n",
       "      <td>ArthurJVaughn@gmail.com</td>\n",
       "      <td>SIGNUP_GOOGLE_AUTH</td>\n",
       "      <td>2014-05-30 14:22:45</td>\n",
       "      <td>0</td>\n",
       "      <td>0</td>\n",
       "      <td>388</td>\n",
       "      <td>NaN</td>\n",
       "      <td>False</td>\n",
       "      <td>40</td>\n",
       "      <td>14</td>\n",
       "    </tr>\n",
       "    <tr>\n",
       "      <th>11991</th>\n",
       "      <td>2014-04-09 19:39:56</td>\n",
       "      <td>AmandaAHermansen@yahoo.com</td>\n",
       "      <td>PERSONAL_PROJECTS</td>\n",
       "      <td>2014-04-11 19:39:56</td>\n",
       "      <td>0</td>\n",
       "      <td>0</td>\n",
       "      <td>129</td>\n",
       "      <td>NaN</td>\n",
       "      <td>False</td>\n",
       "      <td>2</td>\n",
       "      <td>28</td>\n",
       "    </tr>\n",
       "    <tr>\n",
       "      <th>11992</th>\n",
       "      <td>2013-03-28 23:24:21</td>\n",
       "      <td>IsabelTownsend@cuvox.de</td>\n",
       "      <td>PERSONAL_PROJECTS</td>\n",
       "      <td>NaT</td>\n",
       "      <td>0</td>\n",
       "      <td>0</td>\n",
       "      <td>281</td>\n",
       "      <td>NaN</td>\n",
       "      <td>False</td>\n",
       "      <td>0</td>\n",
       "      <td>18</td>\n",
       "    </tr>\n",
       "    <tr>\n",
       "      <th>11993</th>\n",
       "      <td>2012-06-05 04:46:16</td>\n",
       "      <td>conxzghp@eaouk.com</td>\n",
       "      <td>GUEST_INVITE</td>\n",
       "      <td>NaT</td>\n",
       "      <td>0</td>\n",
       "      <td>0</td>\n",
       "      <td>84</td>\n",
       "      <td>5450.0</td>\n",
       "      <td>False</td>\n",
       "      <td>0</td>\n",
       "      <td>40</td>\n",
       "    </tr>\n",
       "    <tr>\n",
       "      <th>11994</th>\n",
       "      <td>2013-10-21 13:33:17</td>\n",
       "      <td>SebastianWerfel@gmail.com</td>\n",
       "      <td>PERSONAL_PROJECTS</td>\n",
       "      <td>2013-10-22 13:33:17</td>\n",
       "      <td>0</td>\n",
       "      <td>0</td>\n",
       "      <td>0</td>\n",
       "      <td>NaN</td>\n",
       "      <td>False</td>\n",
       "      <td>1</td>\n",
       "      <td>319</td>\n",
       "    </tr>\n",
       "    <tr>\n",
       "      <th>11995</th>\n",
       "      <td>2013-09-06 06:14:15</td>\n",
       "      <td>SophiaMeier@gustr.com</td>\n",
       "      <td>ORG_INVITE</td>\n",
       "      <td>2013-09-06 06:14:15</td>\n",
       "      <td>0</td>\n",
       "      <td>0</td>\n",
       "      <td>89</td>\n",
       "      <td>8263.0</td>\n",
       "      <td>False</td>\n",
       "      <td>0</td>\n",
       "      <td>40</td>\n",
       "    </tr>\n",
       "    <tr>\n",
       "      <th>11996</th>\n",
       "      <td>2013-01-10 18:28:37</td>\n",
       "      <td>AmelieFisher@gmail.com</td>\n",
       "      <td>SIGNUP_GOOGLE_AUTH</td>\n",
       "      <td>2013-01-15 18:28:37</td>\n",
       "      <td>0</td>\n",
       "      <td>0</td>\n",
       "      <td>200</td>\n",
       "      <td>NaN</td>\n",
       "      <td>False</td>\n",
       "      <td>5</td>\n",
       "      <td>25</td>\n",
       "    </tr>\n",
       "    <tr>\n",
       "      <th>11997</th>\n",
       "      <td>2014-04-27 12:45:16</td>\n",
       "      <td>JakeHaynes@cuvox.de</td>\n",
       "      <td>GUEST_INVITE</td>\n",
       "      <td>2014-04-27 12:45:16</td>\n",
       "      <td>1</td>\n",
       "      <td>1</td>\n",
       "      <td>83</td>\n",
       "      <td>8074.0</td>\n",
       "      <td>False</td>\n",
       "      <td>0</td>\n",
       "      <td>27</td>\n",
       "    </tr>\n",
       "    <tr>\n",
       "      <th>11998</th>\n",
       "      <td>2012-05-31 11:55:59</td>\n",
       "      <td>mhaerzxp@iuxiw.com</td>\n",
       "      <td>PERSONAL_PROJECTS</td>\n",
       "      <td>2012-06-02 11:55:59</td>\n",
       "      <td>0</td>\n",
       "      <td>0</td>\n",
       "      <td>6</td>\n",
       "      <td>NaN</td>\n",
       "      <td>False</td>\n",
       "      <td>2</td>\n",
       "      <td>138</td>\n",
       "    </tr>\n",
       "    <tr>\n",
       "      <th>11999</th>\n",
       "      <td>2014-01-26 08:57:12</td>\n",
       "      <td>ThaisMeloLima@hotmail.com</td>\n",
       "      <td>SIGNUP</td>\n",
       "      <td>2014-01-26 08:57:12</td>\n",
       "      <td>0</td>\n",
       "      <td>1</td>\n",
       "      <td>0</td>\n",
       "      <td>NaN</td>\n",
       "      <td>False</td>\n",
       "      <td>0</td>\n",
       "      <td>319</td>\n",
       "    </tr>\n",
       "  </tbody>\n",
       "</table>\n",
       "<p>12000 rows × 11 columns</p>\n",
       "</div>"
      ],
      "text/plain": [
       "            creation_time                                email  \\\n",
       "0     2014-04-22 03:53:30             AugustCClausen@yahoo.com   \n",
       "1     2013-11-15 03:45:04               MatthewPoole@gustr.com   \n",
       "2     2013-03-19 23:14:52           MitchellBottrill@gustr.com   \n",
       "3     2013-05-21 08:09:28            NicklasSClausen@yahoo.com   \n",
       "4     2013-01-17 10:14:20                   GraceRaw@yahoo.com   \n",
       "5     2013-12-17 03:37:06        EduardoPereiraCunha@yahoo.com   \n",
       "6     2012-12-16 13:24:32           TylerSewell@jourrapide.com   \n",
       "7     2013-07-31 05:34:02           DanielleHamilton@yahoo.com   \n",
       "8     2013-11-05 04:04:24                PaulAmsel@hotmail.com   \n",
       "9     2013-01-16 22:08:03        CarlaFerreiraSantos@gustr.com   \n",
       "10    2013-12-26 03:55:54             MaltheAPaulsen@gustr.com   \n",
       "11    2014-04-17 23:48:38            LaerkeLMathiesen@cuvox.de   \n",
       "12    2014-03-30 16:19:38               AlexanderDFry@cuvox.de   \n",
       "13    2012-10-11 16:14:33                BretKRivera@gmail.com   \n",
       "14    2013-07-16 21:33:54               RalfTheiss@hotmail.com   \n",
       "15    2013-02-11 10:09:50                ReneEngel@hotmail.com   \n",
       "16    2014-04-09 14:39:38       AnthonyReynolds@jourrapide.com   \n",
       "17    2013-08-24 00:26:46      CelinaAGregersen@jourrapide.com   \n",
       "18    2013-05-24 14:56:36             ArleneRCollins@gmail.com   \n",
       "19    2014-03-06 11:46:38                   lqyvjilf@uhzdq.com   \n",
       "20    2013-01-22 12:27:42                AlfieHunter@gmail.com   \n",
       "21    2014-02-10 06:00:46                JordanMyers@gmail.com   \n",
       "22    2012-08-17 08:30:27           AliceAraujoSouza@gustr.com   \n",
       "23    2013-09-09 22:20:03              JamesTWoodruff@cuvox.de   \n",
       "24    2014-02-25 00:11:13            EliseStone@jourrapide.com   \n",
       "25    2013-07-28 00:53:32         FlorianWexler@jourrapide.com   \n",
       "26    2014-01-14 17:35:11            LuisPintoSantos@gmail.com   \n",
       "27    2013-02-11 20:00:25      MarkoWeissmuller@jourrapide.com   \n",
       "28    2013-09-16 02:08:41  EvelynSousaFernandes@jourrapide.com   \n",
       "29    2013-06-04 00:44:25             LeahEgger@jourrapide.com   \n",
       "...                   ...                                  ...   \n",
       "11970 2013-05-04 06:54:23    BeatriceBarbosaFerreira@yahoo.com   \n",
       "11971 2012-09-13 23:23:11             JamiePenington@yahoo.com   \n",
       "11972 2012-10-30 03:09:47              ThomasSimmons@gmail.com   \n",
       "11973 2012-12-26 16:42:08                JamesJScott@gmail.com   \n",
       "11974 2013-03-23 11:10:11              JurgenDaecher@gustr.com   \n",
       "11975 2013-12-25 22:01:41                 LeahKohl@hotmail.com   \n",
       "11976 2013-09-17 18:58:51               JoshuaHCrary@gmail.com   \n",
       "11977 2014-04-23 16:28:06           PedroCunhaCastro@gustr.com   \n",
       "11978 2013-01-28 09:26:33                HarleyHurst@yahoo.com   \n",
       "11979 2014-02-02 15:23:18                   ljnnbqdr@cgbld.com   \n",
       "11980 2013-03-05 01:53:48                   TylerFry@gmail.com   \n",
       "11981 2013-12-06 14:39:15              MariaCBarajas@gmail.com   \n",
       "11982 2013-07-30 00:23:36                  MikeEngel@gmail.com   \n",
       "11983 2014-02-11 21:26:11                  CerysReed@yahoo.com   \n",
       "11984 2013-07-08 17:23:26            MarcusTJespersen@cuvox.de   \n",
       "11985 2012-06-24 01:02:14         ClaraBarrosRibeiro@gmail.com   \n",
       "11986 2013-03-15 03:21:01                   ftdkorrj@uyhoy.com   \n",
       "11987 2014-03-15 11:04:47                JohnFMinick@yahoo.com   \n",
       "11988 2013-09-02 11:24:33      EmillyOliveiraPereira@gmail.com   \n",
       "11989 2013-07-05 21:00:48             AasePJuhl@jourrapide.com   \n",
       "11990 2014-04-20 14:22:45              ArthurJVaughn@gmail.com   \n",
       "11991 2014-04-09 19:39:56           AmandaAHermansen@yahoo.com   \n",
       "11992 2013-03-28 23:24:21              IsabelTownsend@cuvox.de   \n",
       "11993 2012-06-05 04:46:16                   conxzghp@eaouk.com   \n",
       "11994 2013-10-21 13:33:17            SebastianWerfel@gmail.com   \n",
       "11995 2013-09-06 06:14:15                SophiaMeier@gustr.com   \n",
       "11996 2013-01-10 18:28:37               AmelieFisher@gmail.com   \n",
       "11997 2014-04-27 12:45:16                  JakeHaynes@cuvox.de   \n",
       "11998 2012-05-31 11:55:59                   mhaerzxp@iuxiw.com   \n",
       "11999 2014-01-26 08:57:12            ThaisMeloLima@hotmail.com   \n",
       "\n",
       "          creation_source last_session_creation_time  \\\n",
       "0            GUEST_INVITE        2014-04-22 03:53:30   \n",
       "1              ORG_INVITE        2014-03-31 03:45:04   \n",
       "2              ORG_INVITE        2013-03-19 23:14:52   \n",
       "3            GUEST_INVITE        2013-05-22 08:09:28   \n",
       "4            GUEST_INVITE        2013-01-22 10:14:20   \n",
       "5            GUEST_INVITE        2013-12-19 03:37:06   \n",
       "6                  SIGNUP        2012-12-20 13:24:32   \n",
       "7       PERSONAL_PROJECTS                        NaT   \n",
       "8       PERSONAL_PROJECTS                        NaT   \n",
       "9              ORG_INVITE        2014-06-03 22:08:03   \n",
       "10                 SIGNUP        2013-12-27 03:55:54   \n",
       "11             ORG_INVITE                        NaT   \n",
       "12             ORG_INVITE        2014-03-30 16:19:38   \n",
       "13                 SIGNUP        2012-10-12 16:14:33   \n",
       "14      PERSONAL_PROJECTS                        NaT   \n",
       "15      PERSONAL_PROJECTS                        NaT   \n",
       "16           GUEST_INVITE        2014-04-12 14:39:38   \n",
       "17           GUEST_INVITE                        NaT   \n",
       "18                 SIGNUP        2013-05-30 14:56:36   \n",
       "19                 SIGNUP        2014-05-29 11:46:38   \n",
       "20      PERSONAL_PROJECTS        2013-01-22 12:27:42   \n",
       "21             ORG_INVITE        2014-02-10 06:00:46   \n",
       "22             ORG_INVITE        2012-08-18 08:30:27   \n",
       "23                 SIGNUP        2013-09-09 22:20:03   \n",
       "24           GUEST_INVITE        2014-02-26 00:11:13   \n",
       "25             ORG_INVITE                        NaT   \n",
       "26             ORG_INVITE        2014-01-15 17:35:11   \n",
       "27                 SIGNUP        2013-02-14 20:00:25   \n",
       "28                 SIGNUP        2013-09-17 02:08:41   \n",
       "29           GUEST_INVITE        2013-06-04 00:44:25   \n",
       "...                   ...                        ...   \n",
       "11970        GUEST_INVITE                        NaT   \n",
       "11971          ORG_INVITE                        NaT   \n",
       "11972   PERSONAL_PROJECTS                        NaT   \n",
       "11973              SIGNUP        2012-12-28 16:42:08   \n",
       "11974        GUEST_INVITE        2014-05-22 11:10:11   \n",
       "11975   PERSONAL_PROJECTS                        NaT   \n",
       "11976  SIGNUP_GOOGLE_AUTH        2013-09-20 18:58:51   \n",
       "11977   PERSONAL_PROJECTS                        NaT   \n",
       "11978              SIGNUP        2013-01-31 09:26:33   \n",
       "11979          ORG_INVITE        2014-04-18 15:23:18   \n",
       "11980        GUEST_INVITE        2013-04-02 01:53:48   \n",
       "11981          ORG_INVITE        2013-12-06 14:39:15   \n",
       "11982  SIGNUP_GOOGLE_AUTH        2013-07-30 00:23:36   \n",
       "11983              SIGNUP        2014-02-11 21:26:11   \n",
       "11984   PERSONAL_PROJECTS                        NaT   \n",
       "11985  SIGNUP_GOOGLE_AUTH        2012-07-01 01:02:14   \n",
       "11986              SIGNUP        2013-03-15 03:21:01   \n",
       "11987   PERSONAL_PROJECTS        2014-06-01 11:04:47   \n",
       "11988  SIGNUP_GOOGLE_AUTH        2013-09-07 11:24:33   \n",
       "11989          ORG_INVITE        2013-07-06 21:00:48   \n",
       "11990  SIGNUP_GOOGLE_AUTH        2014-05-30 14:22:45   \n",
       "11991   PERSONAL_PROJECTS        2014-04-11 19:39:56   \n",
       "11992   PERSONAL_PROJECTS                        NaT   \n",
       "11993        GUEST_INVITE                        NaT   \n",
       "11994   PERSONAL_PROJECTS        2013-10-22 13:33:17   \n",
       "11995          ORG_INVITE        2013-09-06 06:14:15   \n",
       "11996  SIGNUP_GOOGLE_AUTH        2013-01-15 18:28:37   \n",
       "11997        GUEST_INVITE        2014-04-27 12:45:16   \n",
       "11998   PERSONAL_PROJECTS        2012-06-02 11:55:59   \n",
       "11999              SIGNUP        2014-01-26 08:57:12   \n",
       "\n",
       "       opted_in_to_mailing_list  enabled_for_marketing_drip  org_id  \\\n",
       "0                             1                           0      11   \n",
       "1                             0                           0       1   \n",
       "2                             0                           0      94   \n",
       "3                             0                           0       1   \n",
       "4                             0                           0     193   \n",
       "5                             0                           0     197   \n",
       "6                             0                           1      37   \n",
       "7                             1                           1      74   \n",
       "8                             0                           0     302   \n",
       "9                             1                           1     318   \n",
       "10                            0                           0      69   \n",
       "11                            0                           0     130   \n",
       "12                            0                           0     254   \n",
       "13                            0                           0       0   \n",
       "14                            0                           0     175   \n",
       "15                            0                           0     211   \n",
       "16                            1                           0     175   \n",
       "17                            0                           0       2   \n",
       "18                            1                           0       0   \n",
       "19                            0                           0      58   \n",
       "20                            0                           0      54   \n",
       "21                            0                           0       7   \n",
       "22                            1                           0       6   \n",
       "23                            1                           0     123   \n",
       "24                            1                           0      81   \n",
       "25                            0                           0      56   \n",
       "26                            0                           0     134   \n",
       "27                            0                           0       6   \n",
       "28                            0                           0      92   \n",
       "29                            0                           0     251   \n",
       "...                         ...                         ...     ...   \n",
       "11970                         0                           0       3   \n",
       "11971                         0                           0      16   \n",
       "11972                         0                           0      52   \n",
       "11973                         0                           0     167   \n",
       "11974                         1                           0      31   \n",
       "11975                         0                           0     248   \n",
       "11976                         0                           0     144   \n",
       "11977                         1                           0      29   \n",
       "11978                         0                           0       2   \n",
       "11979                         0                           0     406   \n",
       "11980                         0                           0     110   \n",
       "11981                         1                           1      57   \n",
       "11982                         0                           0     234   \n",
       "11983                         0                           0     170   \n",
       "11984                         0                           0      74   \n",
       "11985                         0                           0     111   \n",
       "11986                         0                           0       1   \n",
       "11987                         0                           0     114   \n",
       "11988                         1                           0      22   \n",
       "11989                         0                           0      25   \n",
       "11990                         0                           0     388   \n",
       "11991                         0                           0     129   \n",
       "11992                         0                           0     281   \n",
       "11993                         0                           0      84   \n",
       "11994                         0                           0       0   \n",
       "11995                         0                           0      89   \n",
       "11996                         0                           0     200   \n",
       "11997                         1                           1      83   \n",
       "11998                         0                           0       6   \n",
       "11999                         0                           1       0   \n",
       "\n",
       "       invited_by_user_id active  age  org_size  \n",
       "0                 10803.0  False    0        75  \n",
       "1                   316.0   True  136       233  \n",
       "2                  1525.0  False    0        32  \n",
       "3                  5151.0  False    1       233  \n",
       "4                  5240.0  False    5        16  \n",
       "5                 11241.0  False    2        14  \n",
       "6                     NaN  False    4        44  \n",
       "7                     NaN  False    0        38  \n",
       "8                     NaN  False    0        19  \n",
       "9                  4143.0   True  503        17  \n",
       "10                    NaN  False    1        38  \n",
       "11                 9270.0  False    0        25  \n",
       "12                11204.0  False    0        29  \n",
       "13                    NaN  False    1       319  \n",
       "14                    NaN  False    0        24  \n",
       "15                    NaN  False    0        20  \n",
       "16                 1600.0  False    3        24  \n",
       "17                 3153.0  False    0       201  \n",
       "18                    NaN  False    6       319  \n",
       "19                    NaN  False   84        42  \n",
       "20                    NaN  False    0        44  \n",
       "21                 2994.0  False    0       119  \n",
       "22                   23.0  False    1       138  \n",
       "23                    NaN  False    0        24  \n",
       "24                 6312.0  False    1        27  \n",
       "25                11857.0  False    0        35  \n",
       "26                 4189.0  False    1        26  \n",
       "27                    NaN  False    3       138  \n",
       "28                    NaN  False    1        30  \n",
       "29                 4835.0  False    0        17  \n",
       "...                   ...    ...  ...       ...  \n",
       "11970             11854.0  False    0       168  \n",
       "11971              7012.0  False    0        72  \n",
       "11972                 NaN  False    0        41  \n",
       "11973                 NaN  False    2        28  \n",
       "11974              6410.0   True  425        54  \n",
       "11975                 NaN  False    0        21  \n",
       "11976                 NaN  False    3        37  \n",
       "11977                 NaN  False    0        50  \n",
       "11978                 NaN  False    3       201  \n",
       "11979              3068.0  False   75        23  \n",
       "11980              5775.0  False   28        29  \n",
       "11981              2527.0  False    0        48  \n",
       "11982                 NaN  False    0        24  \n",
       "11983                 NaN  False    0        24  \n",
       "11984                 NaN  False    0        38  \n",
       "11985                 NaN  False    7        19  \n",
       "11986                 NaN  False    0       233  \n",
       "11987                 NaN   True   78        18  \n",
       "11988                 NaN  False    5        58  \n",
       "11989              3944.0  False    1        62  \n",
       "11990                 NaN  False   40        14  \n",
       "11991                 NaN  False    2        28  \n",
       "11992                 NaN  False    0        18  \n",
       "11993              5450.0  False    0        40  \n",
       "11994                 NaN  False    1       319  \n",
       "11995              8263.0  False    0        40  \n",
       "11996                 NaN  False    5        25  \n",
       "11997              8074.0  False    0        27  \n",
       "11998                 NaN  False    2       138  \n",
       "11999                 NaN  False    0       319  \n",
       "\n",
       "[12000 rows x 11 columns]"
      ]
     },
     "execution_count": 30,
     "metadata": {},
     "output_type": "execute_result"
    }
   ],
   "source": [
    "model_tu"
   ]
  },
  {
   "cell_type": "code",
   "execution_count": 31,
   "metadata": {
    "collapsed": false
   },
   "outputs": [],
   "source": [
    "model_tu['invited_by_active'] = model_tu.invited_by_user_id.apply(get_user_active_flag)\n",
    "model_tu['invited_by_inactive'] = model_tu.invited_by_user_id.apply(lambda x:~get_user_active_flag(x) if x is not np.nan else False)\n",
    "model_tu.invited_by_inactive = model_tu.invited_by_inactive.replace(-1,False)"
   ]
  },
  {
   "cell_type": "code",
   "execution_count": 32,
   "metadata": {
    "collapsed": false
   },
   "outputs": [],
   "source": [
    "model_tu = model_tu.drop(['age','creation_time', 'email', 'last_session_creation_time', 'org_id',  'invited_by_user_id'], axis=1)\n",
    "#model_tu = model_tu.drop(['age', 'creation_time', 'email', 'last_session_creation_time', 'invited_by_user_id'], axis=1)"
   ]
  },
  {
   "cell_type": "markdown",
   "metadata": {},
   "source": [
    "# Model"
   ]
  },
  {
   "cell_type": "code",
   "execution_count": 33,
   "metadata": {
    "collapsed": true
   },
   "outputs": [],
   "source": [
    "from sklearn.ensemble import RandomForestClassifier, ExtraTreesClassifier\n",
    "from sklearn.model_selection import train_test_split, RandomizedSearchCV\n",
    "from scipy.stats import randint as sp_randint"
   ]
  },
  {
   "cell_type": "code",
   "execution_count": 34,
   "metadata": {
    "collapsed": true
   },
   "outputs": [],
   "source": [
    "forest = ExtraTreesClassifier(random_state=42)"
   ]
  },
  {
   "cell_type": "code",
   "execution_count": 35,
   "metadata": {
    "collapsed": true
   },
   "outputs": [],
   "source": [
    "rf_model_tu = pd.get_dummies(model_tu)"
   ]
  },
  {
   "cell_type": "code",
   "execution_count": 36,
   "metadata": {
    "collapsed": true
   },
   "outputs": [],
   "source": [
    "X = rf_model_tu.drop('active', axis=1)\n",
    "y = rf_model_tu.active.values"
   ]
  },
  {
   "cell_type": "code",
   "execution_count": 37,
   "metadata": {
    "collapsed": true
   },
   "outputs": [],
   "source": [
    "X_train, X_test, y_train, y_test = train_test_split(X, y, test_size=0.3, random_state=42)"
   ]
  },
  {
   "cell_type": "code",
   "execution_count": 38,
   "metadata": {
    "collapsed": false
   },
   "outputs": [
    {
     "data": {
      "text/plain": [
       "0.86888888888888893"
      ]
     },
     "execution_count": 38,
     "metadata": {},
     "output_type": "execute_result"
    }
   ],
   "source": [
    "forest.fit(X_train, y_train)\n",
    "forest.score(X_test, y_test)"
   ]
  },
  {
   "cell_type": "code",
   "execution_count": 39,
   "metadata": {
    "collapsed": true
   },
   "outputs": [],
   "source": [
    "def plot_rf_importances(forest):\n",
    "    importances = forest.feature_importances_\n",
    "    std = np.std([tree.feature_importances_ for tree in forest.estimators_],\n",
    "                 axis=0)\n",
    "    indices = np.argsort(importances)[::-1]\n",
    "    names = X_train.columns.tolist()\n",
    "    ordered_names = [names[index] for index in indices]\n",
    "\n",
    "    # Print the feature ranking\n",
    "    print(\"Feature ranking:\")\n",
    "\n",
    "    for f in range(X.shape[1]):\n",
    "        print(\"{}. {}\\t\\t ({})\".format(f + 1, names[indices[f]], importances[indices[f]]))\n",
    "\n",
    "    # Plot the feature importances of the forest\n",
    "    fig, ax = plt.subplots(1,1,figsize=(12,6))\n",
    "    ax.bar(range(X_train.shape[1]), importances[indices],\n",
    "           color=\"r\", yerr=std[indices], align=\"center\")\n",
    "    plt.title(\"Feature importances\")\n",
    "    plt.xticks(range(X.shape[1]), ordered_names, rotation='vertical')\n",
    "    plt.xlim([-1, X_train.shape[1]])\n",
    "    plt.show()"
   ]
  },
  {
   "cell_type": "code",
   "execution_count": 40,
   "metadata": {
    "collapsed": false
   },
   "outputs": [
    {
     "name": "stdout",
     "output_type": "stream",
     "text": [
      "Feature ranking:\n",
      "1. org_size\t\t (0.8921667231344295)\n",
      "2. creation_source_PERSONAL_PROJECTS\t\t (0.02488845151275558)\n",
      "3. opted_in_to_mailing_list\t\t (0.023064864511406564)\n",
      "4. enabled_for_marketing_drip\t\t (0.01660616803511589)\n",
      "5. invited_by_active\t\t (0.016600580616363794)\n",
      "6. invited_by_inactive\t\t (0.011136329587507984)\n",
      "7. creation_source_GUEST_INVITE\t\t (0.005037692459309569)\n",
      "8. creation_source_ORG_INVITE\t\t (0.004512731972425967)\n",
      "9. creation_source_SIGNUP_GOOGLE_AUTH\t\t (0.0032272670952606134)\n",
      "10. creation_source_SIGNUP\t\t (0.0027591910754244955)\n"
     ]
    },
    {
     "data": {
      "image/png": "[encoded data removed]",
      "text/plain": [
       "<matplotlib.figure.Figure at 0x2d4aa111400>"
      ]
     },
     "metadata": {},
     "output_type": "display_data"
    }
   ],
   "source": [
    "plot_rf_importances(forest)"
   ]
  },
  {
   "cell_type": "code",
   "execution_count": 41,
   "metadata": {
    "collapsed": true
   },
   "outputs": [],
   "source": [
    "rf = ExtraTreesClassifier(random_state=42)"
   ]
  },
  {
   "cell_type": "code",
   "execution_count": 42,
   "metadata": {
    "collapsed": false
   },
   "outputs": [],
   "source": [
    "param_dist = {\"n_estimators\": sp_randint(1, 1000),\n",
    "              \"max_depth\": [3, 6, 9, 12, None],\n",
    "              \"max_features\": sp_randint(1, 10),\n",
    "              \"min_samples_split\": sp_randint(2, 200),\n",
    "              \"min_samples_leaf\": sp_randint(1, 200),\n",
    "              \"bootstrap\": [True, False],\n",
    "              \"criterion\": [\"gini\", \"entropy\"]}"
   ]
  },
  {
   "cell_type": "code",
   "execution_count": 43,
   "metadata": {
    "collapsed": true
   },
   "outputs": [],
   "source": [
    "clf = RandomizedSearchCV(rf, param_dist, n_iter=50, random_state=42, cv=5, n_jobs=4, verbose=10)"
   ]
  },
  {
   "cell_type": "code",
   "execution_count": 44,
   "metadata": {
    "collapsed": false
   },
   "outputs": [
    {
     "name": "stderr",
     "output_type": "stream",
     "text": [
      "[Parallel(n_jobs=4)]: Done   5 tasks      | elapsed:   14.3s\n",
      "[Parallel(n_jobs=4)]: Done  10 tasks      | elapsed:   26.3s\n",
      "[Parallel(n_jobs=4)]: Done  17 tasks      | elapsed:   27.9s\n",
      "[Parallel(n_jobs=4)]: Done  24 tasks      | elapsed:   31.9s\n",
      "[Parallel(n_jobs=4)]: Done  33 tasks      | elapsed:   37.9s\n",
      "[Parallel(n_jobs=4)]: Done  42 tasks      | elapsed:   54.0s\n",
      "[Parallel(n_jobs=4)]: Done  53 tasks      | elapsed:  1.0min\n",
      "[Parallel(n_jobs=4)]: Done  64 tasks      | elapsed:  1.2min\n",
      "[Parallel(n_jobs=4)]: Done  77 tasks      | elapsed:  1.4min\n",
      "[Parallel(n_jobs=4)]: Done  90 tasks      | elapsed:  1.5min\n",
      "[Parallel(n_jobs=4)]: Done 105 tasks      | elapsed:  1.7min\n",
      "[Parallel(n_jobs=4)]: Done 120 tasks      | elapsed:  1.9min\n",
      "[Parallel(n_jobs=4)]: Done 137 tasks      | elapsed:  2.1min\n",
      "[Parallel(n_jobs=4)]: Done 154 tasks      | elapsed:  2.3min\n",
      "[Parallel(n_jobs=4)]: Done 173 tasks      | elapsed:  2.4min\n",
      "[Parallel(n_jobs=4)]: Done 192 tasks      | elapsed:  2.7min\n",
      "[Parallel(n_jobs=4)]: Done 213 tasks      | elapsed:  2.9min\n",
      "[Parallel(n_jobs=4)]: Done 234 tasks      | elapsed:  3.2min\n",
      "[Parallel(n_jobs=4)]: Done 250 out of 250 | elapsed:  3.4min finished\n"
     ]
    },
    {
     "name": "stdout",
     "output_type": "stream",
     "text": [
      "Fitting 5 folds for each of 50 candidates, totalling 250 fits\n"
     ]
    },
    {
     "data": {
      "text/plain": [
       "RandomizedSearchCV(cv=5, error_score='raise',\n",
       "          estimator=ExtraTreesClassifier(bootstrap=False, class_weight=None, criterion='gini',\n",
       "           max_depth=None, max_features='auto', max_leaf_nodes=None,\n",
       "           min_impurity_split=1e-07, min_samples_leaf=1,\n",
       "           min_samples_split=2, min_weight_fraction_leaf=0.0,\n",
       "           n_estimators=10, n_jobs=1, oob_score=False, random_state=42,\n",
       "           verbose=0, warm_start=False),\n",
       "          fit_params={}, iid=True, n_iter=50, n_jobs=4,\n",
       "          param_distributions={'min_samples_leaf': <scipy.stats._distn_infrastructure.rv_frozen object at 0x000002D4AB16E908>, 'criterion': ['gini', 'entropy'], 'n_estimators': <scipy.stats._distn_infrastructure.rv_frozen object at 0x000002D4AB1322B0>, 'bootstrap': [True, False], 'max_features': <scipy.stats._distn_infrastructure.rv_frozen object at 0x000002D4AB13AD68>, 'max_depth': [3, 6, 9, 12, None], 'min_samples_split': <scipy.stats._distn_infrastructure.rv_frozen object at 0x000002D4AB171588>},\n",
       "          pre_dispatch='2*n_jobs', random_state=42, refit=True,\n",
       "          return_train_score=True, scoring=None, verbose=10)"
      ]
     },
     "execution_count": 44,
     "metadata": {},
     "output_type": "execute_result"
    }
   ],
   "source": [
    "clf.fit(X_train, y_train)"
   ]
  },
  {
   "cell_type": "code",
   "execution_count": 45,
   "metadata": {
    "collapsed": false
   },
   "outputs": [
    {
     "data": {
      "text/plain": [
       "0.88055555555555554"
      ]
     },
     "execution_count": 45,
     "metadata": {},
     "output_type": "execute_result"
    }
   ],
   "source": [
    "clf.score(X_test, y_test)"
   ]
  },
  {
   "cell_type": "code",
   "execution_count": 46,
   "metadata": {
    "collapsed": false
   },
   "outputs": [
    {
     "data": {
      "text/plain": [
       "{'bootstrap': True,\n",
       " 'criterion': 'entropy',\n",
       " 'max_depth': None,\n",
       " 'max_features': 8,\n",
       " 'min_samples_leaf': 189,\n",
       " 'min_samples_split': 22,\n",
       " 'n_estimators': 615}"
      ]
     },
     "execution_count": 46,
     "metadata": {},
     "output_type": "execute_result"
    }
   ],
   "source": [
    "clf.best_params_"
   ]
  },
  {
   "cell_type": "code",
   "execution_count": 47,
   "metadata": {
    "collapsed": false
   },
   "outputs": [],
   "source": [
    "new_rf = ExtraTreesClassifier(\n",
    "    bootstrap=clf.best_params_['bootstrap'],\n",
    "    criterion=clf.best_params_['criterion'],\n",
    "    max_depth=clf.best_params_['max_depth'],\n",
    "    min_samples_leaf=clf.best_params_['min_samples_leaf'],\n",
    "    min_samples_split=clf.best_params_['min_samples_split'],\n",
    "    n_estimators=clf.best_params_['n_estimators'],\n",
    "    random_state=42)"
   ]
  },
  {
   "cell_type": "code",
   "execution_count": 48,
   "metadata": {
    "collapsed": false
   },
   "outputs": [
    {
     "data": {
      "text/plain": [
       "ExtraTreesClassifier(bootstrap=True, class_weight=None, criterion='entropy',\n",
       "           max_depth=None, max_features='auto', max_leaf_nodes=None,\n",
       "           min_impurity_split=1e-07, min_samples_leaf=189,\n",
       "           min_samples_split=22, min_weight_fraction_leaf=0.0,\n",
       "           n_estimators=615, n_jobs=1, oob_score=False, random_state=42,\n",
       "           verbose=0, warm_start=False)"
      ]
     },
     "execution_count": 48,
     "metadata": {},
     "output_type": "execute_result"
    }
   ],
   "source": [
    "new_rf.fit(X_train, y_train)"
   ]
  },
  {
   "cell_type": "code",
   "execution_count": 49,
   "metadata": {
    "collapsed": false,
    "scrolled": false
   },
   "outputs": [
    {
     "name": "stdout",
     "output_type": "stream",
     "text": [
      "Feature ranking:\n",
      "1. creation_source_PERSONAL_PROJECTS\t\t (0.37250511761098754)\n",
      "2. invited_by_active\t\t (0.15032472266913072)\n",
      "3. org_size\t\t (0.14500139314898564)\n",
      "4. creation_source_GUEST_INVITE\t\t (0.07487657666557462)\n",
      "5. creation_source_SIGNUP_GOOGLE_AUTH\t\t (0.06330972296088995)\n",
      "6. creation_source_ORG_INVITE\t\t (0.05799499964518129)\n",
      "7. invited_by_inactive\t\t (0.051594656141697545)\n",
      "8. creation_source_SIGNUP\t\t (0.03971865618958694)\n",
      "9. opted_in_to_mailing_list\t\t (0.027460986439829766)\n",
      "10. enabled_for_marketing_drip\t\t (0.01721316852813628)\n"
     ]
    },
    {
     "data": {
      "image/png": "[encoded data removed]",
      "text/plain": [
       "<matplotlib.figure.Figure at 0x2d4ab1ca048>"
      ]
     },
     "metadata": {},
     "output_type": "display_data"
    }
   ],
   "source": [
    "plot_rf_importances(new_rf)"
   ]
  },
  {
   "cell_type": "code",
   "execution_count": 50,
   "metadata": {
    "collapsed": false
   },
   "outputs": [],
   "source": [
    "from sklearn.metrics import roc_curve, auc, precision_recall_curve\n",
    "\n",
    "def plot_roc(winning_rfc):\n",
    "    y_test_classes = {cls:[True if c == cls else False for c in y_test ] for cls in winning_rfc.classes_.tolist()}\n",
    "    rfc_result = winning_rfc.predict_proba(X_test)\n",
    "    rfc_classes = winning_rfc.classes_.tolist()\n",
    "    y_predicted_probs = {cls:[item[rfc_classes.index(cls)] for item in rfc_result] for cls in rfc_classes}\n",
    "\n",
    "    fpr = {cls:[] for cls in rfc_classes}\n",
    "    tpr = {cls:[] for cls in rfc_classes}\n",
    "\n",
    "    for cls in rfc_classes:\n",
    "        data = roc_curve(y_test_classes[cls]*1,y_predicted_probs[cls])\n",
    "        fpr[cls] = data[0]\n",
    "        tpr[cls] = data[1]\n",
    "\n",
    "    colors = {0:'red', 1:'blue'}\n",
    "    sns.set_context('talk')\n",
    "    plt.figure(figsize=(12,8))\n",
    "    lw = 2\n",
    "    for cls in rfc_classes:\n",
    "        plt.plot(fpr[cls],tpr[cls], color=colors[cls],lw=lw,label=str(cls) + ' ROC curve (area = %0.2f)' % auc(fpr[cls],tpr[cls]))\n",
    "    plt.plot([0, 1], [0, 1], color='navy', lw=lw, linestyle='--')\n",
    "    plt.xlim([0.0, 1.0])\n",
    "    plt.ylim([0.0, 1.05])\n",
    "    plt.xlabel('False Positive Rate')\n",
    "    plt.ylabel('True Positive Rate')\n",
    "    plt.title('ROC Curve')\n",
    "    plt.legend(loc=\"lower right\")\n",
    "    plt.savefig('ROC')\n",
    "    plt.show()"
   ]
  },
  {
   "cell_type": "code",
   "execution_count": 51,
   "metadata": {
    "collapsed": false
   },
   "outputs": [
    {
     "data": {
      "image/png": "[encoded data removed]",
      "text/plain": [
       "<matplotlib.figure.Figure at 0x2d4ab15af28>"
      ]
     },
     "metadata": {},
     "output_type": "display_data"
    }
   ],
   "source": [
    "plot_roc(new_rf)"
   ]
  },
  {
   "cell_type": "code",
   "execution_count": 52,
   "metadata": {
    "collapsed": false
   },
   "outputs": [],
   "source": [
    "def plot_pre_rec(winning_rfc):\n",
    "    y_test_classes = {cls:[True if c == cls else False for c in y_test ] for cls in winning_rfc.classes_.tolist()}\n",
    "    rfc_result = winning_rfc.predict_proba(X_test)\n",
    "    rfc_classes = winning_rfc.classes_.tolist()\n",
    "    y_predicted_probs = {cls:[item[rfc_classes.index(cls)] for item in rfc_result] for cls in rfc_classes}\n",
    "    \n",
    "    pre = {cls:[] for cls in rfc_classes}\n",
    "    rec = {cls:[] for cls in rfc_classes}\n",
    "    \n",
    "    for cls in rfc_classes:\n",
    "        data = precision_recall_curve(y_test_classes[cls]*1, y_predicted_probs[cls])\n",
    "        pre[cls] = data[0]\n",
    "        rec[cls] = data[1]\n",
    "    \n",
    "    colors = {0:'red', 1:'blue'}\n",
    "    sns.set_context('talk')\n",
    "    plt.figure(figsize=(12,8))\n",
    "    lw = 2\n",
    "    for cls in rfc_classes:\n",
    "        plt.plot(pre[cls],rec[cls], color=colors[cls],lw=lw,label=str(cls) + ' PR curve (area = %0.2f)' % auc(rec[cls],pre[cls]))\n",
    "    #plt.plot([0, 1], [0, 1], color='navy', lw=lw, linestyle='--')\n",
    "    #plt.xlim([0.0, 1.0])\n",
    "    #plt.ylim([0.0, 1.05])\n",
    "    plt.xlabel('Recall')\n",
    "    plt.ylabel('Precision')\n",
    "    plt.title('NFL PlayType RF Classifier - PR')\n",
    "    plt.legend(loc=\"lower left\")\n",
    "    plt.show()"
   ]
  },
  {
   "cell_type": "code",
   "execution_count": 53,
   "metadata": {
    "collapsed": false
   },
   "outputs": [
    {
     "data": {
      "image/png": "[encoded data removed]",
      "text/plain": [
       "<matplotlib.figure.Figure at 0x2d4a9554dd8>"
      ]
     },
     "metadata": {},
     "output_type": "display_data"
    }
   ],
   "source": [
    "plot_pre_rec(new_rf)"
   ]
  },
  {
   "cell_type": "markdown",
   "metadata": {},
   "source": [
    "# Results\n",
    "\n",
    "Our model has a good score when being tested on unseen data however it's ROC and PR curves show that it does not perform as well as our 88% score indicated. We are missing some key indicators of adopted users. None the less what we have been able to learn is that Personal Project users, being invited by an active user, and organization size are all key factors for determining \"adopted users\".\n",
    "\n",
    "Excluded from our model is the age of a user. The model performed extrodinarily well when that calculated factor was included, however age is a lagging indicator that does not help predict what will make a user an \"adopted user\". Without this factor the others have difficulty consistently predicting adoption with this model so I do believe it is worth actioning on the factors indicated above but other user factors should be incorporated to help strengthen its predictive power."
   ]
  }
 ],
 "metadata": {
  "kernelspec": {
   "display_name": "Python 3",
   "language": "python",
   "name": "python3"
  },
  "language_info": {
   "codemirror_mode": {
    "name": "ipython",
    "version": 3
   },
   "file_extension": ".py",
   "mimetype": "text/x-python",
   "name": "python",
   "nbconvert_exporter": "python",
   "pygments_lexer": "ipython3",
   "version": "3.5.1"
  },
  "widgets": {
   "state": {},
   "version": "1.1.2"
  }
 },
 "nbformat": 4,
 "nbformat_minor": 2
}
