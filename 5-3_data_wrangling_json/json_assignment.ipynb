{
 "cells": [
  {
   "cell_type": "markdown",
   "metadata": {},
   "source": [
    "#  Springboard Datascience - JSON Assignment 1"
   ]
  },
  {
   "cell_type": "markdown",
   "metadata": {},
   "source": [
    "\n",
    "\n",
    "Using data in file 'data/world_bank_projects.json' and the techniques demonstrated in the example notebook,\n",
    "1. Find the 10 countries with most projects\n",
    "2. Find the top 10 major project themes (using column 'mjtheme_namecode')\n",
    "3. In 2. above you will notice that some entries have only the code and the name is missing. Create a dataframe with the missing names filled in."
   ]
  },
  {
   "cell_type": "markdown",
   "metadata": {},
   "source": [
    "## 0. Load in data"
   ]
  },
  {
   "cell_type": "code",
   "execution_count": 50,
   "metadata": {
    "collapsed": true
   },
   "outputs": [],
   "source": [
    "import json\n",
    "import pandas as pd\n",
    "from pandas.io.json import json_normalize\n",
    "from pprint import pprint"
   ]
  },
  {
   "cell_type": "markdown",
   "metadata": {},
   "source": [
    "Use **`json.load`** to create a list of dicts containing all the project details."
   ]
  },
  {
   "cell_type": "code",
   "execution_count": 54,
   "metadata": {
    "collapsed": false
   },
   "outputs": [
    {
     "name": "stdout",
     "output_type": "stream",
     "text": [
      "{'_id': {'$oid': '52b213b38594d8a2be17c780'},\n",
      " 'approvalfy': 1999,\n",
      " 'board_approval_month': 'November',\n",
      " 'boardapprovaldate': '2013-11-12T00:00:00Z',\n",
      " 'borrower': 'FEDERAL DEMOCRATIC REPUBLIC OF ETHIOPIA',\n",
      " 'closingdate': '2018-07-07T00:00:00Z',\n",
      " 'country_namecode': 'Federal Democratic Republic of Ethiopia!$!ET',\n",
      " 'countrycode': 'ET',\n",
      " 'countryname': 'Federal Democratic Republic of Ethiopia',\n",
      " 'countryshortname': 'Ethiopia',\n",
      " 'docty': 'Project Information Document,Indigenous Peoples Plan,Project '\n",
      "          'Information Document',\n",
      " 'envassesmentcategorycode': 'C',\n",
      " 'grantamt': 0,\n",
      " 'ibrdcommamt': 0,\n",
      " 'id': 'P129828',\n",
      " 'idacommamt': 130000000,\n",
      " 'impagency': 'MINISTRY OF EDUCATION',\n",
      " 'lendinginstr': 'Investment Project Financing',\n",
      " 'lendinginstrtype': 'IN',\n",
      " 'lendprojectcost': 550000000,\n",
      " 'majorsector_percent': [{'Name': 'Education', 'Percent': 46},\n",
      "                         {'Name': 'Education', 'Percent': 26},\n",
      "                         {'Name': 'Public Administration, Law, and Justice',\n",
      "                          'Percent': 16},\n",
      "                         {'Name': 'Education', 'Percent': 12}],\n",
      " 'mjsector_namecode': [{'code': 'EX', 'name': 'Education'},\n",
      "                       {'code': 'EX', 'name': 'Education'},\n",
      "                       {'code': 'BX',\n",
      "                        'name': 'Public Administration, Law, and Justice'},\n",
      "                       {'code': 'EX', 'name': 'Education'}],\n",
      " 'mjtheme': ['Human development'],\n",
      " 'mjtheme_namecode': [{'code': '8', 'name': 'Human development'},\n",
      "                      {'code': '11', 'name': ''}],\n",
      " 'mjthemecode': '8,11',\n",
      " 'prodline': 'PE',\n",
      " 'prodlinetext': 'IBRD/IDA',\n",
      " 'productlinetype': 'L',\n",
      " 'project_abstract': {'cdata': 'The development objective of the Second Phase '\n",
      "                               'of General Education Quality Improvement '\n",
      "                               'Project for Ethiopia is to improve learning '\n",
      "                               'conditions in primary and secondary schools '\n",
      "                               'and strengthen institutions at different '\n",
      "                               'levels of educational administration. The '\n",
      "                               'project has six components. The first '\n",
      "                               'component is curriculum, textbooks, '\n",
      "                               'assessment, examinations, and inspection. This '\n",
      "                               'component will support improvement of learning '\n",
      "                               'conditions in grades KG-12 by providing '\n",
      "                               'increased access to teaching and learning '\n",
      "                               'materials and through improvements to the '\n",
      "                               'curriculum by assessing the strengths and '\n",
      "                               'weaknesses of the current curriculum. This '\n",
      "                               'component has following four sub-components: '\n",
      "                               '(i) curriculum reform and implementation; (ii) '\n",
      "                               'teaching and learning materials; (iii) '\n",
      "                               'assessment and examinations; and (iv) '\n",
      "                               'inspection. The second component is teacher '\n",
      "                               'development program (TDP). This component will '\n",
      "                               'support improvements in learning conditions in '\n",
      "                               'both primary and secondary schools by '\n",
      "                               'advancing the quality of teaching in general '\n",
      "                               'education through: (a) enhancing the training '\n",
      "                               'of pre-service teachers in teacher education '\n",
      "                               'institutions; and (b) improving the quality of '\n",
      "                               'in-service teacher training. This component '\n",
      "                               'has following three sub-components: (i) '\n",
      "                               'pre-service teacher training; (ii) in-service '\n",
      "                               'teacher training; and (iii) licensing and '\n",
      "                               'relicensing of teachers and school leaders. '\n",
      "                               'The third component is school improvement '\n",
      "                               'plan. This component will support the '\n",
      "                               'strengthening of school planning in order to '\n",
      "                               'improve learning outcomes, and to partly fund '\n",
      "                               'the school improvement plans through school '\n",
      "                               'grants. It has following two sub-components: '\n",
      "                               '(i) school improvement plan; and (ii) school '\n",
      "                               'grants. The fourth component is management and '\n",
      "                               'capacity building, including education '\n",
      "                               'management information systems (EMIS). This '\n",
      "                               'component will support management and capacity '\n",
      "                               'building aspect of the project. This component '\n",
      "                               'has following three sub-components: (i) '\n",
      "                               'capacity building for education planning and '\n",
      "                               'management; (ii) capacity building for school '\n",
      "                               'planning and management; and (iii) EMIS. The '\n",
      "                               'fifth component is improving the quality of '\n",
      "                               'learning and teaching in secondary schools and '\n",
      "                               'universities through the use of information '\n",
      "                               'and communications technology (ICT). It has '\n",
      "                               'following five sub-components: (i) national '\n",
      "                               'policy and institution for ICT in general '\n",
      "                               'education; (ii) national ICT infrastructure '\n",
      "                               'improvement plan for general education; (iii) '\n",
      "                               'develop an integrated monitoring, evaluation, '\n",
      "                               'and learning system specifically for the ICT '\n",
      "                               'component; (iv) teacher professional '\n",
      "                               'development in the use of ICT; and (v) '\n",
      "                               'provision of limited number of e-Braille '\n",
      "                               'display readers with the possibility to scale '\n",
      "                               'up to all secondary education schools based on '\n",
      "                               'the successful implementation and usage of the '\n",
      "                               'readers. The sixth component is program '\n",
      "                               'coordination, monitoring and evaluation, and '\n",
      "                               'communication. It will support institutional '\n",
      "                               'strengthening by developing capacities in all '\n",
      "                               'aspects of program coordination, monitoring '\n",
      "                               'and evaluation; a new sub-component on '\n",
      "                               'communications will support information '\n",
      "                               'sharing for better management and '\n",
      "                               'accountability. It has following three '\n",
      "                               'sub-components: (i) program coordination; (ii) '\n",
      "                               'monitoring and evaluation (M and E); and (iii) '\n",
      "                               'communication.'},\n",
      " 'project_name': 'Ethiopia General Education Quality Improvement Project II',\n",
      " 'projectdocs': [{'DocDate': '28-AUG-2013',\n",
      "                  'DocType': 'PID',\n",
      "                  'DocTypeDesc': 'Project Information Document (PID),  Vol.',\n",
      "                  'DocURL': 'http://www-wds.worldbank.org/servlet/WDSServlet?pcont=details&eid=090224b081e545fb_1_0',\n",
      "                  'EntityID': '090224b081e545fb_1_0'},\n",
      "                 {'DocDate': '01-JUL-2013',\n",
      "                  'DocType': 'IP',\n",
      "                  'DocTypeDesc': 'Indigenous Peoples Plan (IP),  Vol.1 of 1',\n",
      "                  'DocURL': 'http://www-wds.worldbank.org/servlet/WDSServlet?pcont=details&eid=000442464_20130920111729',\n",
      "                  'EntityID': '000442464_20130920111729'},\n",
      "                 {'DocDate': '22-NOV-2012',\n",
      "                  'DocType': 'PID',\n",
      "                  'DocTypeDesc': 'Project Information Document (PID),  Vol.',\n",
      "                  'DocURL': 'http://www-wds.worldbank.org/servlet/WDSServlet?pcont=details&eid=090224b0817b19e2_1_0',\n",
      "                  'EntityID': '090224b0817b19e2_1_0'}],\n",
      " 'projectfinancialtype': 'IDA',\n",
      " 'projectstatusdisplay': 'Active',\n",
      " 'regionname': 'Africa',\n",
      " 'sector': [{'Name': 'Primary education'},\n",
      "            {'Name': 'Secondary education'},\n",
      "            {'Name': 'Public administration- Other social services'},\n",
      "            {'Name': 'Tertiary education'}],\n",
      " 'sector1': {'Name': 'Primary education', 'Percent': 46},\n",
      " 'sector2': {'Name': 'Secondary education', 'Percent': 26},\n",
      " 'sector3': {'Name': 'Public administration- Other social services',\n",
      "             'Percent': 16},\n",
      " 'sector4': {'Name': 'Tertiary education', 'Percent': 12},\n",
      " 'sector_namecode': [{'code': 'EP', 'name': 'Primary education'},\n",
      "                     {'code': 'ES', 'name': 'Secondary education'},\n",
      "                     {'code': 'BS',\n",
      "                      'name': 'Public administration- Other social services'},\n",
      "                     {'code': 'ET', 'name': 'Tertiary education'}],\n",
      " 'sectorcode': 'ET,BS,ES,EP',\n",
      " 'source': 'IBRD',\n",
      " 'status': 'Active',\n",
      " 'supplementprojectflg': 'N',\n",
      " 'theme1': {'Name': 'Education for all', 'Percent': 100},\n",
      " 'theme_namecode': [{'code': '65', 'name': 'Education for all'}],\n",
      " 'themecode': '65',\n",
      " 'totalamt': 130000000,\n",
      " 'totalcommamt': 130000000,\n",
      " 'url': 'http://www.worldbank.org/projects/P129828/ethiopia-general-education-quality-improvement-project-ii?lang=en'}\n"
     ]
    }
   ],
   "source": [
    "list_world_bank_projects = json.load(open('data/world_bank_projects.json'))\n",
    "pprint(list_world_bank_projects[0])"
   ]
  },
  {
   "cell_type": "markdown",
   "metadata": {},
   "source": [
    "Generate a **`pandas.Dataframe`** using **`pandas.read_json`** to read the **`.json`** file in directly"
   ]
  },
  {
   "cell_type": "code",
   "execution_count": 55,
   "metadata": {
    "collapsed": true
   },
   "outputs": [],
   "source": [
    "df_world_bank_projects = pd.read_json('data/world_bank_projects.json')"
   ]
  },
  {
   "cell_type": "markdown",
   "metadata": {},
   "source": [
    "## 1. Top 10 Countries for Projects\n",
    "### Task: Find the 10 countries with most projects\n",
    "\n",
    "Since the dataframe we created has a unique row for each project we can look at the **`countryshortname`** column to get the name of the country associated with each project.\n",
    "\n",
    "pandas has a function **`value_counts`** that will count up the number of times a row appears in the vector."
   ]
  },
  {
   "cell_type": "code",
   "execution_count": 74,
   "metadata": {
    "collapsed": false,
    "scrolled": false
   },
   "outputs": [
    {
     "data": {
      "text/plain": [
       "Indonesia             19\n",
       "China                 19\n",
       "Vietnam               17\n",
       "India                 16\n",
       "Yemen, Republic of    13\n",
       "Bangladesh            12\n",
       "Nepal                 12\n",
       "Morocco               12\n",
       "Africa                11\n",
       "Mozambique            11\n",
       "Name: countryshortname, dtype: int64"
      ]
     },
     "execution_count": 74,
     "metadata": {},
     "output_type": "execute_result"
    }
   ],
   "source": [
    "df_world_bank_projects.countryshortname.value_counts().head(10)"
   ]
  },
  {
   "cell_type": "markdown",
   "metadata": {},
   "source": [
    "## 2. Top 10 Major Project Themes\n",
    "### Task: Find the top 10 major project themes (using column 'mjtheme_namecode')"
   ]
  },
  {
   "cell_type": "code",
   "execution_count": 82,
   "metadata": {
    "collapsed": false,
    "scrolled": true
   },
   "outputs": [
    {
     "data": {
      "text/html": [
       "<div>\n",
       "<table border=\"1\" class=\"dataframe\">\n",
       "  <thead>\n",
       "    <tr style=\"text-align: right;\">\n",
       "      <th></th>\n",
       "      <th>code</th>\n",
       "      <th>name</th>\n",
       "    </tr>\n",
       "  </thead>\n",
       "  <tbody>\n",
       "    <tr>\n",
       "      <th>0</th>\n",
       "      <td>8</td>\n",
       "      <td>Human development</td>\n",
       "    </tr>\n",
       "    <tr>\n",
       "      <th>1</th>\n",
       "      <td>11</td>\n",
       "      <td></td>\n",
       "    </tr>\n",
       "    <tr>\n",
       "      <th>2</th>\n",
       "      <td>1</td>\n",
       "      <td>Economic management</td>\n",
       "    </tr>\n",
       "    <tr>\n",
       "      <th>3</th>\n",
       "      <td>6</td>\n",
       "      <td>Social protection and risk management</td>\n",
       "    </tr>\n",
       "    <tr>\n",
       "      <th>4</th>\n",
       "      <td>5</td>\n",
       "      <td>Trade and integration</td>\n",
       "    </tr>\n",
       "    <tr>\n",
       "      <th>5</th>\n",
       "      <td>2</td>\n",
       "      <td>Public sector governance</td>\n",
       "    </tr>\n",
       "    <tr>\n",
       "      <th>6</th>\n",
       "      <td>11</td>\n",
       "      <td>Environment and natural resources management</td>\n",
       "    </tr>\n",
       "    <tr>\n",
       "      <th>7</th>\n",
       "      <td>6</td>\n",
       "      <td>Social protection and risk management</td>\n",
       "    </tr>\n",
       "    <tr>\n",
       "      <th>8</th>\n",
       "      <td>7</td>\n",
       "      <td>Social dev/gender/inclusion</td>\n",
       "    </tr>\n",
       "    <tr>\n",
       "      <th>9</th>\n",
       "      <td>7</td>\n",
       "      <td>Social dev/gender/inclusion</td>\n",
       "    </tr>\n",
       "    <tr>\n",
       "      <th>10</th>\n",
       "      <td>5</td>\n",
       "      <td>Trade and integration</td>\n",
       "    </tr>\n",
       "    <tr>\n",
       "      <th>11</th>\n",
       "      <td>4</td>\n",
       "      <td>Financial and private sector development</td>\n",
       "    </tr>\n",
       "    <tr>\n",
       "      <th>12</th>\n",
       "      <td>6</td>\n",
       "      <td>Social protection and risk management</td>\n",
       "    </tr>\n",
       "    <tr>\n",
       "      <th>13</th>\n",
       "      <td>6</td>\n",
       "      <td></td>\n",
       "    </tr>\n",
       "    <tr>\n",
       "      <th>14</th>\n",
       "      <td>2</td>\n",
       "      <td>Public sector governance</td>\n",
       "    </tr>\n",
       "    <tr>\n",
       "      <th>15</th>\n",
       "      <td>4</td>\n",
       "      <td>Financial and private sector development</td>\n",
       "    </tr>\n",
       "    <tr>\n",
       "      <th>16</th>\n",
       "      <td>11</td>\n",
       "      <td>Environment and natural resources management</td>\n",
       "    </tr>\n",
       "    <tr>\n",
       "      <th>17</th>\n",
       "      <td>8</td>\n",
       "      <td></td>\n",
       "    </tr>\n",
       "    <tr>\n",
       "      <th>18</th>\n",
       "      <td>10</td>\n",
       "      <td>Rural development</td>\n",
       "    </tr>\n",
       "    <tr>\n",
       "      <th>19</th>\n",
       "      <td>7</td>\n",
       "      <td></td>\n",
       "    </tr>\n",
       "    <tr>\n",
       "      <th>20</th>\n",
       "      <td>2</td>\n",
       "      <td>Public sector governance</td>\n",
       "    </tr>\n",
       "    <tr>\n",
       "      <th>21</th>\n",
       "      <td>2</td>\n",
       "      <td>Public sector governance</td>\n",
       "    </tr>\n",
       "    <tr>\n",
       "      <th>22</th>\n",
       "      <td>2</td>\n",
       "      <td>Public sector governance</td>\n",
       "    </tr>\n",
       "    <tr>\n",
       "      <th>23</th>\n",
       "      <td>10</td>\n",
       "      <td>Rural development</td>\n",
       "    </tr>\n",
       "    <tr>\n",
       "      <th>24</th>\n",
       "      <td>2</td>\n",
       "      <td></td>\n",
       "    </tr>\n",
       "    <tr>\n",
       "      <th>25</th>\n",
       "      <td>10</td>\n",
       "      <td>Rural development</td>\n",
       "    </tr>\n",
       "    <tr>\n",
       "      <th>26</th>\n",
       "      <td>6</td>\n",
       "      <td>Social protection and risk management</td>\n",
       "    </tr>\n",
       "    <tr>\n",
       "      <th>27</th>\n",
       "      <td>6</td>\n",
       "      <td>Social protection and risk management</td>\n",
       "    </tr>\n",
       "    <tr>\n",
       "      <th>28</th>\n",
       "      <td>11</td>\n",
       "      <td>Environment and natural resources management</td>\n",
       "    </tr>\n",
       "    <tr>\n",
       "      <th>29</th>\n",
       "      <td>4</td>\n",
       "      <td></td>\n",
       "    </tr>\n",
       "    <tr>\n",
       "      <th>...</th>\n",
       "      <td>...</td>\n",
       "      <td>...</td>\n",
       "    </tr>\n",
       "    <tr>\n",
       "      <th>1469</th>\n",
       "      <td>8</td>\n",
       "      <td>Human development</td>\n",
       "    </tr>\n",
       "    <tr>\n",
       "      <th>1470</th>\n",
       "      <td>9</td>\n",
       "      <td>Urban development</td>\n",
       "    </tr>\n",
       "    <tr>\n",
       "      <th>1471</th>\n",
       "      <td>6</td>\n",
       "      <td>Social protection and risk management</td>\n",
       "    </tr>\n",
       "    <tr>\n",
       "      <th>1472</th>\n",
       "      <td>6</td>\n",
       "      <td>Social protection and risk management</td>\n",
       "    </tr>\n",
       "    <tr>\n",
       "      <th>1473</th>\n",
       "      <td>9</td>\n",
       "      <td>Urban development</td>\n",
       "    </tr>\n",
       "    <tr>\n",
       "      <th>1474</th>\n",
       "      <td>2</td>\n",
       "      <td>Public sector governance</td>\n",
       "    </tr>\n",
       "    <tr>\n",
       "      <th>1475</th>\n",
       "      <td>2</td>\n",
       "      <td>Public sector governance</td>\n",
       "    </tr>\n",
       "    <tr>\n",
       "      <th>1476</th>\n",
       "      <td>10</td>\n",
       "      <td>Rural development</td>\n",
       "    </tr>\n",
       "    <tr>\n",
       "      <th>1477</th>\n",
       "      <td>11</td>\n",
       "      <td></td>\n",
       "    </tr>\n",
       "    <tr>\n",
       "      <th>1478</th>\n",
       "      <td>8</td>\n",
       "      <td>Human development</td>\n",
       "    </tr>\n",
       "    <tr>\n",
       "      <th>1479</th>\n",
       "      <td>7</td>\n",
       "      <td>Social dev/gender/inclusion</td>\n",
       "    </tr>\n",
       "    <tr>\n",
       "      <th>1480</th>\n",
       "      <td>11</td>\n",
       "      <td>Environment and natural resources management</td>\n",
       "    </tr>\n",
       "    <tr>\n",
       "      <th>1481</th>\n",
       "      <td>5</td>\n",
       "      <td></td>\n",
       "    </tr>\n",
       "    <tr>\n",
       "      <th>1482</th>\n",
       "      <td>6</td>\n",
       "      <td>Social protection and risk management</td>\n",
       "    </tr>\n",
       "    <tr>\n",
       "      <th>1483</th>\n",
       "      <td>8</td>\n",
       "      <td></td>\n",
       "    </tr>\n",
       "    <tr>\n",
       "      <th>1484</th>\n",
       "      <td>4</td>\n",
       "      <td>Financial and private sector development</td>\n",
       "    </tr>\n",
       "    <tr>\n",
       "      <th>1485</th>\n",
       "      <td>7</td>\n",
       "      <td>Social dev/gender/inclusion</td>\n",
       "    </tr>\n",
       "    <tr>\n",
       "      <th>1486</th>\n",
       "      <td>8</td>\n",
       "      <td>Human development</td>\n",
       "    </tr>\n",
       "    <tr>\n",
       "      <th>1487</th>\n",
       "      <td>5</td>\n",
       "      <td>Trade and integration</td>\n",
       "    </tr>\n",
       "    <tr>\n",
       "      <th>1488</th>\n",
       "      <td>2</td>\n",
       "      <td>Public sector governance</td>\n",
       "    </tr>\n",
       "    <tr>\n",
       "      <th>1489</th>\n",
       "      <td>8</td>\n",
       "      <td>Human development</td>\n",
       "    </tr>\n",
       "    <tr>\n",
       "      <th>1490</th>\n",
       "      <td>10</td>\n",
       "      <td>Rural development</td>\n",
       "    </tr>\n",
       "    <tr>\n",
       "      <th>1491</th>\n",
       "      <td>6</td>\n",
       "      <td></td>\n",
       "    </tr>\n",
       "    <tr>\n",
       "      <th>1492</th>\n",
       "      <td>10</td>\n",
       "      <td>Rural development</td>\n",
       "    </tr>\n",
       "    <tr>\n",
       "      <th>1493</th>\n",
       "      <td>10</td>\n",
       "      <td>Rural development</td>\n",
       "    </tr>\n",
       "    <tr>\n",
       "      <th>1494</th>\n",
       "      <td>10</td>\n",
       "      <td>Rural development</td>\n",
       "    </tr>\n",
       "    <tr>\n",
       "      <th>1495</th>\n",
       "      <td>9</td>\n",
       "      <td>Urban development</td>\n",
       "    </tr>\n",
       "    <tr>\n",
       "      <th>1496</th>\n",
       "      <td>8</td>\n",
       "      <td>Human development</td>\n",
       "    </tr>\n",
       "    <tr>\n",
       "      <th>1497</th>\n",
       "      <td>5</td>\n",
       "      <td>Trade and integration</td>\n",
       "    </tr>\n",
       "    <tr>\n",
       "      <th>1498</th>\n",
       "      <td>4</td>\n",
       "      <td>Financial and private sector development</td>\n",
       "    </tr>\n",
       "  </tbody>\n",
       "</table>\n",
       "<p>1499 rows × 2 columns</p>\n",
       "</div>"
      ],
      "text/plain": [
       "     code                                          name\n",
       "0       8                             Human development\n",
       "1      11                                              \n",
       "2       1                           Economic management\n",
       "3       6         Social protection and risk management\n",
       "4       5                         Trade and integration\n",
       "5       2                      Public sector governance\n",
       "6      11  Environment and natural resources management\n",
       "7       6         Social protection and risk management\n",
       "8       7                   Social dev/gender/inclusion\n",
       "9       7                   Social dev/gender/inclusion\n",
       "10      5                         Trade and integration\n",
       "11      4      Financial and private sector development\n",
       "12      6         Social protection and risk management\n",
       "13      6                                              \n",
       "14      2                      Public sector governance\n",
       "15      4      Financial and private sector development\n",
       "16     11  Environment and natural resources management\n",
       "17      8                                              \n",
       "18     10                             Rural development\n",
       "19      7                                              \n",
       "20      2                      Public sector governance\n",
       "21      2                      Public sector governance\n",
       "22      2                      Public sector governance\n",
       "23     10                             Rural development\n",
       "24      2                                              \n",
       "25     10                             Rural development\n",
       "26      6         Social protection and risk management\n",
       "27      6         Social protection and risk management\n",
       "28     11  Environment and natural resources management\n",
       "29      4                                              \n",
       "...   ...                                           ...\n",
       "1469    8                             Human development\n",
       "1470    9                             Urban development\n",
       "1471    6         Social protection and risk management\n",
       "1472    6         Social protection and risk management\n",
       "1473    9                             Urban development\n",
       "1474    2                      Public sector governance\n",
       "1475    2                      Public sector governance\n",
       "1476   10                             Rural development\n",
       "1477   11                                              \n",
       "1478    8                             Human development\n",
       "1479    7                   Social dev/gender/inclusion\n",
       "1480   11  Environment and natural resources management\n",
       "1481    5                                              \n",
       "1482    6         Social protection and risk management\n",
       "1483    8                                              \n",
       "1484    4      Financial and private sector development\n",
       "1485    7                   Social dev/gender/inclusion\n",
       "1486    8                             Human development\n",
       "1487    5                         Trade and integration\n",
       "1488    2                      Public sector governance\n",
       "1489    8                             Human development\n",
       "1490   10                             Rural development\n",
       "1491    6                                              \n",
       "1492   10                             Rural development\n",
       "1493   10                             Rural development\n",
       "1494   10                             Rural development\n",
       "1495    9                             Urban development\n",
       "1496    8                             Human development\n",
       "1497    5                         Trade and integration\n",
       "1498    4      Financial and private sector development\n",
       "\n",
       "[1499 rows x 2 columns]"
      ]
     },
     "execution_count": 82,
     "metadata": {},
     "output_type": "execute_result"
    }
   ],
   "source": [
    "df_wbp_themes = json_normalize(list_world_bank_projects,'mjtheme_namecode')\n",
    "df_wbp_themes"
   ]
  },
  {
   "cell_type": "code",
   "execution_count": 84,
   "metadata": {
    "collapsed": false
   },
   "outputs": [
    {
     "data": {
      "text/plain": [
       "11    250\n",
       "10    216\n",
       "8     210\n",
       "2     199\n",
       "6     168\n",
       "4     146\n",
       "7     130\n",
       "5      77\n",
       "9      50\n",
       "1      38\n",
       "Name: code, dtype: int64"
      ]
     },
     "execution_count": 84,
     "metadata": {},
     "output_type": "execute_result"
    }
   ],
   "source": [
    "df_wbp_themes.code.value_counts().head(10)"
   ]
  },
  {
   "cell_type": "markdown",
   "metadata": {},
   "source": [
    "## 3. Find All Names for Project Themes\n",
    "### Task: Create a dataframe with the missing names filled in.\n",
    "In 2. above you will notice that some entries have only the code and the name is missing. "
   ]
  },
  {
   "cell_type": "code",
   "execution_count": 100,
   "metadata": {
    "collapsed": false
   },
   "outputs": [
    {
     "data": {
      "text/plain": [
       "{'name': {'1': 'Economic management',\n",
       "  '10': 'Rural development',\n",
       "  '11': 'Environment and natural resources management',\n",
       "  '2': 'Public sector governance',\n",
       "  '3': 'Rule of law',\n",
       "  '4': 'Financial and private sector development',\n",
       "  '5': 'Trade and integration',\n",
       "  '6': 'Social protection and risk management',\n",
       "  '7': 'Social dev/gender/inclusion',\n",
       "  '8': 'Human development',\n",
       "  '9': 'Urban development'}}"
      ]
     },
     "execution_count": 100,
     "metadata": {},
     "output_type": "execute_result"
    }
   ],
   "source": [
    "namecodes = df_wbp_themes[df_wbp_themes['name']!=''].set_index('code').to_dict()\n",
    "namecodes"
   ]
  },
  {
   "cell_type": "code",
   "execution_count": 120,
   "metadata": {
    "collapsed": false
   },
   "outputs": [
    {
     "data": {
      "text/html": [
       "<div>\n",
       "<table border=\"1\" class=\"dataframe\">\n",
       "  <thead>\n",
       "    <tr style=\"text-align: right;\">\n",
       "      <th></th>\n",
       "      <th>code</th>\n",
       "      <th>name</th>\n",
       "    </tr>\n",
       "  </thead>\n",
       "  <tbody>\n",
       "    <tr>\n",
       "      <th>0</th>\n",
       "      <td>1</td>\n",
       "      <td>Economic management</td>\n",
       "    </tr>\n",
       "    <tr>\n",
       "      <th>1</th>\n",
       "      <td>10</td>\n",
       "      <td>Rural development</td>\n",
       "    </tr>\n",
       "    <tr>\n",
       "      <th>2</th>\n",
       "      <td>11</td>\n",
       "      <td>Environment and natural resources management</td>\n",
       "    </tr>\n",
       "    <tr>\n",
       "      <th>3</th>\n",
       "      <td>2</td>\n",
       "      <td>Public sector governance</td>\n",
       "    </tr>\n",
       "    <tr>\n",
       "      <th>4</th>\n",
       "      <td>3</td>\n",
       "      <td>Rule of law</td>\n",
       "    </tr>\n",
       "    <tr>\n",
       "      <th>5</th>\n",
       "      <td>4</td>\n",
       "      <td>Financial and private sector development</td>\n",
       "    </tr>\n",
       "    <tr>\n",
       "      <th>6</th>\n",
       "      <td>5</td>\n",
       "      <td>Trade and integration</td>\n",
       "    </tr>\n",
       "    <tr>\n",
       "      <th>7</th>\n",
       "      <td>6</td>\n",
       "      <td>Social protection and risk management</td>\n",
       "    </tr>\n",
       "    <tr>\n",
       "      <th>8</th>\n",
       "      <td>7</td>\n",
       "      <td>Social dev/gender/inclusion</td>\n",
       "    </tr>\n",
       "    <tr>\n",
       "      <th>9</th>\n",
       "      <td>8</td>\n",
       "      <td>Human development</td>\n",
       "    </tr>\n",
       "    <tr>\n",
       "      <th>10</th>\n",
       "      <td>9</td>\n",
       "      <td>Urban development</td>\n",
       "    </tr>\n",
       "  </tbody>\n",
       "</table>\n",
       "</div>"
      ],
      "text/plain": [
       "   code                                          name\n",
       "0     1                           Economic management\n",
       "1    10                             Rural development\n",
       "2    11  Environment and natural resources management\n",
       "3     2                      Public sector governance\n",
       "4     3                                   Rule of law\n",
       "5     4      Financial and private sector development\n",
       "6     5                         Trade and integration\n",
       "7     6         Social protection and risk management\n",
       "8     7                   Social dev/gender/inclusion\n",
       "9     8                             Human development\n",
       "10    9                             Urban development"
      ]
     },
     "execution_count": 120,
     "metadata": {},
     "output_type": "execute_result"
    }
   ],
   "source": [
    "x = pd.DataFrame.from_dict(namecodes).reset_index()\n",
    "x.columns = ['code','name']\n",
    "x"
   ]
  },
  {
   "cell_type": "code",
   "execution_count": null,
   "metadata": {
    "collapsed": true
   },
   "outputs": [],
   "source": []
  },
  {
   "cell_type": "code",
   "execution_count": null,
   "metadata": {
    "collapsed": true
   },
   "outputs": [],
   "source": []
  },
  {
   "cell_type": "code",
   "execution_count": null,
   "metadata": {
    "collapsed": true
   },
   "outputs": [],
   "source": []
  },
  {
   "cell_type": "code",
   "execution_count": null,
   "metadata": {
    "collapsed": true
   },
   "outputs": [],
   "source": []
  },
  {
   "cell_type": "code",
   "execution_count": null,
   "metadata": {
    "collapsed": true
   },
   "outputs": [],
   "source": []
  },
  {
   "cell_type": "code",
   "execution_count": null,
   "metadata": {
    "collapsed": true
   },
   "outputs": [],
   "source": []
  },
  {
   "cell_type": "code",
   "execution_count": null,
   "metadata": {
    "collapsed": true
   },
   "outputs": [],
   "source": []
  },
  {
   "cell_type": "code",
   "execution_count": null,
   "metadata": {
    "collapsed": true
   },
   "outputs": [],
   "source": []
  },
  {
   "cell_type": "code",
   "execution_count": null,
   "metadata": {
    "collapsed": true
   },
   "outputs": [],
   "source": []
  },
  {
   "cell_type": "code",
   "execution_count": null,
   "metadata": {
    "collapsed": true
   },
   "outputs": [],
   "source": []
  },
  {
   "cell_type": "code",
   "execution_count": null,
   "metadata": {
    "collapsed": true
   },
   "outputs": [],
   "source": []
  },
  {
   "cell_type": "code",
   "execution_count": null,
   "metadata": {
    "collapsed": true
   },
   "outputs": [],
   "source": []
  },
  {
   "cell_type": "code",
   "execution_count": null,
   "metadata": {
    "collapsed": true
   },
   "outputs": [],
   "source": []
  },
  {
   "cell_type": "code",
   "execution_count": null,
   "metadata": {
    "collapsed": true
   },
   "outputs": [],
   "source": []
  },
  {
   "cell_type": "code",
   "execution_count": null,
   "metadata": {
    "collapsed": true
   },
   "outputs": [],
   "source": []
  },
  {
   "cell_type": "code",
   "execution_count": null,
   "metadata": {
    "collapsed": true
   },
   "outputs": [],
   "source": []
  },
  {
   "cell_type": "code",
   "execution_count": null,
   "metadata": {
    "collapsed": true
   },
   "outputs": [],
   "source": []
  },
  {
   "cell_type": "code",
   "execution_count": null,
   "metadata": {
    "collapsed": true
   },
   "outputs": [],
   "source": []
  }
 ],
 "metadata": {
  "kernelspec": {
   "display_name": "Python 3",
   "language": "python",
   "name": "python3"
  },
  "language_info": {
   "codemirror_mode": {
    "name": "ipython",
    "version": 3
   },
   "file_extension": ".py",
   "mimetype": "text/x-python",
   "name": "python",
   "nbconvert_exporter": "python",
   "pygments_lexer": "ipython3",
   "version": "3.5.1"
  },
  "widgets": {
   "state": {},
   "version": "1.1.2"
  }
 },
 "nbformat": 4,
 "nbformat_minor": 0
}
