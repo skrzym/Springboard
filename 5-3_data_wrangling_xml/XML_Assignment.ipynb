{
 "cells": [
  {
   "cell_type": "markdown",
   "metadata": {},
   "source": [
    "****\n",
    "#  Springboard Datascience - XML Assignment 1\n",
    "\n",
    "Using data in 'data/mondial_database.xml' and refering to https://docs.python.org/2.7/library/xml.etree.elementtree.html, find\n",
    "\n",
    "1. 10 countries with the lowest infant mortality rates\n",
    "2. 10 cities with the largest population\n",
    "3. 10 ethnic groups with the largest overall populations (sum of best/latest estimates over all countries)\n",
    "4. name and country of a) longest river, b) largest lake and c) airport at highest elevation"
   ]
  },
  {
   "cell_type": "code",
   "execution_count": 1,
   "metadata": {
    "collapsed": false
   },
   "outputs": [],
   "source": [
    "import pandas as pd\n",
    "from math import floor\n",
    "from xml.etree import ElementTree as ET\n",
    "import data_wrangling_xml"
   ]
  },
  {
   "cell_type": "code",
   "execution_count": 2,
   "metadata": {
    "collapsed": true
   },
   "outputs": [],
   "source": [
    "document = ET.parse( './data/mondial_database.xml' )"
   ]
  },
  {
   "cell_type": "markdown",
   "metadata": {},
   "source": [
    "## 1. 10 countries with the lowest infant mortality rates\n",
    "\n",
    "The approach here is to go through each country and if it has an 'infant_mortality' tag, store that data as a float in a dictionary with the country's name as the key."
   ]
  },
  {
   "cell_type": "code",
   "execution_count": 3,
   "metadata": {
    "collapsed": false,
    "scrolled": true
   },
   "outputs": [
    {
     "data": {
      "text/html": [
       "<div>\n",
       "<table border=\"1\" class=\"dataframe\">\n",
       "  <thead>\n",
       "    <tr style=\"text-align: right;\">\n",
       "      <th></th>\n",
       "      <th>name</th>\n",
       "      <th>infant_mortality_rate</th>\n",
       "    </tr>\n",
       "  </thead>\n",
       "  <tbody>\n",
       "    <tr>\n",
       "      <th>1</th>\n",
       "      <td>Monaco</td>\n",
       "      <td>1.81</td>\n",
       "    </tr>\n",
       "    <tr>\n",
       "      <th>2</th>\n",
       "      <td>Japan</td>\n",
       "      <td>2.13</td>\n",
       "    </tr>\n",
       "    <tr>\n",
       "      <th>3</th>\n",
       "      <td>Norway</td>\n",
       "      <td>2.48</td>\n",
       "    </tr>\n",
       "    <tr>\n",
       "      <th>4</th>\n",
       "      <td>Bermuda</td>\n",
       "      <td>2.48</td>\n",
       "    </tr>\n",
       "    <tr>\n",
       "      <th>5</th>\n",
       "      <td>Singapore</td>\n",
       "      <td>2.53</td>\n",
       "    </tr>\n",
       "    <tr>\n",
       "      <th>6</th>\n",
       "      <td>Sweden</td>\n",
       "      <td>2.60</td>\n",
       "    </tr>\n",
       "    <tr>\n",
       "      <th>7</th>\n",
       "      <td>Czech Republic</td>\n",
       "      <td>2.63</td>\n",
       "    </tr>\n",
       "    <tr>\n",
       "      <th>8</th>\n",
       "      <td>Hong Kong</td>\n",
       "      <td>2.73</td>\n",
       "    </tr>\n",
       "    <tr>\n",
       "      <th>9</th>\n",
       "      <td>Macao</td>\n",
       "      <td>3.13</td>\n",
       "    </tr>\n",
       "    <tr>\n",
       "      <th>10</th>\n",
       "      <td>Iceland</td>\n",
       "      <td>3.15</td>\n",
       "    </tr>\n",
       "  </tbody>\n",
       "</table>\n",
       "</div>"
      ],
      "text/plain": [
       "              name  infant_mortality_rate\n",
       "1           Monaco                   1.81\n",
       "2            Japan                   2.13\n",
       "3           Norway                   2.48\n",
       "4          Bermuda                   2.48\n",
       "5        Singapore                   2.53\n",
       "6           Sweden                   2.60\n",
       "7   Czech Republic                   2.63\n",
       "8        Hong Kong                   2.73\n",
       "9            Macao                   3.13\n",
       "10         Iceland                   3.15"
      ]
     },
     "execution_count": 3,
     "metadata": {},
     "output_type": "execute_result"
    }
   ],
   "source": [
    "#Top 10 Countries with lowest Infant Mortality Rates\n",
    "data_wrangling_xml.top_10_imr"
   ]
  },
  {
   "cell_type": "markdown",
   "metadata": {},
   "source": [
    "## 2. 10 cities with the largest population\n",
    "The approach here is to go through each country and find all listed population data. Once found, only pick out the latest year's data and compile it into a dictionary containing the country, city, and population value."
   ]
  },
  {
   "cell_type": "code",
   "execution_count": 4,
   "metadata": {
    "collapsed": false
   },
   "outputs": [
    {
     "data": {
      "text/html": [
       "<div>\n",
       "<table border=\"1\" class=\"dataframe\">\n",
       "  <thead>\n",
       "    <tr style=\"text-align: right;\">\n",
       "      <th></th>\n",
       "      <th>city</th>\n",
       "      <th>population</th>\n",
       "    </tr>\n",
       "  </thead>\n",
       "  <tbody>\n",
       "    <tr>\n",
       "      <th>1</th>\n",
       "      <td>Seoul</td>\n",
       "      <td>9708483</td>\n",
       "    </tr>\n",
       "    <tr>\n",
       "      <th>2</th>\n",
       "      <td>Al Qahirah</td>\n",
       "      <td>8471859</td>\n",
       "    </tr>\n",
       "    <tr>\n",
       "      <th>3</th>\n",
       "      <td>Bangkok</td>\n",
       "      <td>7506700</td>\n",
       "    </tr>\n",
       "    <tr>\n",
       "      <th>4</th>\n",
       "      <td>Hong Kong</td>\n",
       "      <td>7055071</td>\n",
       "    </tr>\n",
       "    <tr>\n",
       "      <th>5</th>\n",
       "      <td>Ho Chi Minh</td>\n",
       "      <td>5968384</td>\n",
       "    </tr>\n",
       "    <tr>\n",
       "      <th>6</th>\n",
       "      <td>Singapore</td>\n",
       "      <td>5076700</td>\n",
       "    </tr>\n",
       "    <tr>\n",
       "      <th>7</th>\n",
       "      <td>Al Iskandariyah</td>\n",
       "      <td>4123869</td>\n",
       "    </tr>\n",
       "    <tr>\n",
       "      <th>8</th>\n",
       "      <td>New Taipei</td>\n",
       "      <td>3939305</td>\n",
       "    </tr>\n",
       "    <tr>\n",
       "      <th>9</th>\n",
       "      <td>Busan</td>\n",
       "      <td>3403135</td>\n",
       "    </tr>\n",
       "    <tr>\n",
       "      <th>10</th>\n",
       "      <td>Pyongyang</td>\n",
       "      <td>3255288</td>\n",
       "    </tr>\n",
       "  </tbody>\n",
       "</table>\n",
       "</div>"
      ],
      "text/plain": [
       "               city  population\n",
       "1             Seoul     9708483\n",
       "2        Al Qahirah     8471859\n",
       "3           Bangkok     7506700\n",
       "4         Hong Kong     7055071\n",
       "5       Ho Chi Minh     5968384\n",
       "6         Singapore     5076700\n",
       "7   Al Iskandariyah     4123869\n",
       "8        New Taipei     3939305\n",
       "9             Busan     3403135\n",
       "10        Pyongyang     3255288"
      ]
     },
     "execution_count": 4,
     "metadata": {},
     "output_type": "execute_result"
    }
   ],
   "source": [
    "data_wrangling_xml.top_10_city_populations"
   ]
  },
  {
   "cell_type": "markdown",
   "metadata": {},
   "source": [
    "## 3. 10 ethnic groups with the largest overall populations (sum of best/latest estimates over all countries)\n",
    "\n",
    "The approach here is to go through each country and find two things:\n",
    "1. Latest Country Population\n",
    "2. All the ethnic groups\n",
    "\n",
    "Each ethnic group has a 'percentage' attribute that indicates what percentage of the population in that country is made up of that ethnic group. After determining current population value for a country we can multiply those two numbers together to determine the total ethnic population in that country. We then add this determined population value to the total population tally for that ethnic group. This will let us determine which ethnic groups have the largest overall populations."
   ]
  },
  {
   "cell_type": "code",
   "execution_count": 5,
   "metadata": {
    "collapsed": false
   },
   "outputs": [
    {
     "data": {
      "text/html": [
       "<div>\n",
       "<table border=\"1\" class=\"dataframe\">\n",
       "  <thead>\n",
       "    <tr style=\"text-align: right;\">\n",
       "      <th></th>\n",
       "      <th>ethnicgroup</th>\n",
       "      <th>population</th>\n",
       "    </tr>\n",
       "  </thead>\n",
       "  <tbody>\n",
       "    <tr>\n",
       "      <th>1</th>\n",
       "      <td>Han Chinese</td>\n",
       "      <td>1245058800</td>\n",
       "    </tr>\n",
       "    <tr>\n",
       "      <th>2</th>\n",
       "      <td>Indo-Aryan</td>\n",
       "      <td>871815583</td>\n",
       "    </tr>\n",
       "    <tr>\n",
       "      <th>3</th>\n",
       "      <td>European</td>\n",
       "      <td>494872219</td>\n",
       "    </tr>\n",
       "    <tr>\n",
       "      <th>4</th>\n",
       "      <td>African</td>\n",
       "      <td>318325120</td>\n",
       "    </tr>\n",
       "    <tr>\n",
       "      <th>5</th>\n",
       "      <td>Dravidian</td>\n",
       "      <td>302713744</td>\n",
       "    </tr>\n",
       "    <tr>\n",
       "      <th>6</th>\n",
       "      <td>Mestizo</td>\n",
       "      <td>157734354</td>\n",
       "    </tr>\n",
       "    <tr>\n",
       "      <th>7</th>\n",
       "      <td>Bengali</td>\n",
       "      <td>146776916</td>\n",
       "    </tr>\n",
       "    <tr>\n",
       "      <th>8</th>\n",
       "      <td>Russian</td>\n",
       "      <td>131856996</td>\n",
       "    </tr>\n",
       "    <tr>\n",
       "      <th>9</th>\n",
       "      <td>Japanese</td>\n",
       "      <td>126534212</td>\n",
       "    </tr>\n",
       "    <tr>\n",
       "      <th>10</th>\n",
       "      <td>Malay</td>\n",
       "      <td>121993550</td>\n",
       "    </tr>\n",
       "  </tbody>\n",
       "</table>\n",
       "</div>"
      ],
      "text/plain": [
       "    ethnicgroup  population\n",
       "1   Han Chinese  1245058800\n",
       "2    Indo-Aryan   871815583\n",
       "3      European   494872219\n",
       "4       African   318325120\n",
       "5     Dravidian   302713744\n",
       "6       Mestizo   157734354\n",
       "7       Bengali   146776916\n",
       "8       Russian   131856996\n",
       "9      Japanese   126534212\n",
       "10        Malay   121993550"
      ]
     },
     "execution_count": 5,
     "metadata": {},
     "output_type": "execute_result"
    }
   ],
   "source": [
    "data_wrangling_xml.top_10_ethnic_groups"
   ]
  },
  {
   "cell_type": "markdown",
   "metadata": {},
   "source": [
    "## 4. Name and country of a) longest river, b) largest lake and c) airport at highest elevation"
   ]
  },
  {
   "cell_type": "markdown",
   "metadata": {},
   "source": [
    "First we create a 'countries' dictionary to help map country_code information to the actual country name.\n",
    "This will be used on each of the three parts of this question."
   ]
  },
  {
   "cell_type": "code",
   "execution_count": 6,
   "metadata": {
    "collapsed": false
   },
   "outputs": [
    {
     "data": {
      "text/plain": [
       "{'A': 'Austria',\n",
       " 'AFG': 'Afghanistan',\n",
       " 'AG': 'Antigua and Barbuda',\n",
       " 'AL': 'Albania',\n",
       " 'AMSA': 'American Samoa',\n",
       " 'AND': 'Andorra',\n",
       " 'ANG': 'Angola',\n",
       " 'ARM': 'Armenia',\n",
       " 'ARU': 'Aruba',\n",
       " 'AUS': 'Australia',\n",
       " 'AXA': 'Anguilla',\n",
       " 'AZ': 'Azerbaijan',\n",
       " 'B': 'Belgium',\n",
       " 'BD': 'Bangladesh',\n",
       " 'BDS': 'Barbados',\n",
       " 'BEN': 'Benin',\n",
       " 'BERM': 'Bermuda',\n",
       " 'BF': 'Burkina Faso',\n",
       " 'BG': 'Bulgaria',\n",
       " 'BHT': 'Bhutan',\n",
       " 'BI': 'Burundi',\n",
       " 'BIH': 'Bosnia and Herzegovina',\n",
       " 'BOL': 'Bolivia',\n",
       " 'BR': 'Brazil',\n",
       " 'BRN': 'Bahrain',\n",
       " 'BRU': 'Brunei',\n",
       " 'BS': 'Bahamas',\n",
       " 'BVIR': 'British Virgin Islands',\n",
       " 'BY': 'Belarus',\n",
       " 'BZ': 'Belize',\n",
       " 'C': 'Cuba',\n",
       " 'CAM': 'Cameroon',\n",
       " 'CAYM': 'Cayman Islands',\n",
       " 'CDN': 'Canada',\n",
       " 'CEU': 'Ceuta',\n",
       " 'CH': 'Switzerland',\n",
       " 'CI': 'Cote dIvoire',\n",
       " 'CL': 'Sri Lanka',\n",
       " 'CN': 'China',\n",
       " 'CO': 'Colombia',\n",
       " 'COCO': 'Cocos Islands',\n",
       " 'COM': 'Comoros',\n",
       " 'COOK': 'Cook Islands',\n",
       " 'CR': 'Costa Rica',\n",
       " 'CUR': 'Curacao',\n",
       " 'CV': 'Cape Verde',\n",
       " 'CY': 'Cyprus',\n",
       " 'CZ': 'Czech Republic',\n",
       " 'D': 'Germany',\n",
       " 'DJI': 'Djibouti',\n",
       " 'DK': 'Denmark',\n",
       " 'DOM': 'Dominican Republic',\n",
       " 'DZ': 'Algeria',\n",
       " 'E': 'Spain',\n",
       " 'EAK': 'Kenya',\n",
       " 'EAT': 'Tanzania',\n",
       " 'EAU': 'Uganda',\n",
       " 'EC': 'Ecuador',\n",
       " 'ER': 'Eritrea',\n",
       " 'ES': 'El Salvador',\n",
       " 'ET': 'Egypt',\n",
       " 'ETH': 'Ethiopia',\n",
       " 'EW': 'Estonia',\n",
       " 'F': 'France',\n",
       " 'FALK': 'Falkland Islands',\n",
       " 'FARX': 'Faroe Islands',\n",
       " 'FGU': 'French Guiana',\n",
       " 'FJI': 'Fiji',\n",
       " 'FL': 'Liechtenstein',\n",
       " 'FPOL': 'French Polynesia',\n",
       " 'FSM': 'Micronesia',\n",
       " 'G': 'Gabon',\n",
       " 'GAZA': 'Gaza Strip',\n",
       " 'GB': 'United Kingdom',\n",
       " 'GBG': 'Guernsey',\n",
       " 'GBJ': 'Jersey',\n",
       " 'GBM': 'Isle of Man',\n",
       " 'GBZ': 'Gibraltar',\n",
       " 'GCA': 'Guatemala',\n",
       " 'GE': 'Georgia',\n",
       " 'GH': 'Ghana',\n",
       " 'GNB': 'Guinea-Bissau',\n",
       " 'GQ': 'Equatorial Guinea',\n",
       " 'GR': 'Greece',\n",
       " 'GROX': 'Greenland',\n",
       " 'GUAD': 'Guadeloupe',\n",
       " 'GUAM': 'Guam',\n",
       " 'GUY': 'Guyana',\n",
       " 'H': 'Hungary',\n",
       " 'HCA': 'Honduras',\n",
       " 'HELX': 'Saint Helena',\n",
       " 'HONX': 'Hong Kong',\n",
       " 'HR': 'Croatia',\n",
       " 'I': 'Italy',\n",
       " 'IL': 'Israel',\n",
       " 'IND': 'India',\n",
       " 'IR': 'Iran',\n",
       " 'IRL': 'Ireland',\n",
       " 'IRQ': 'Iraq',\n",
       " 'IS': 'Iceland',\n",
       " 'J': 'Japan',\n",
       " 'JA': 'Jamaica',\n",
       " 'JOR': 'Jordan',\n",
       " 'K': 'Cambodia',\n",
       " 'KAZ': 'Kazakhstan',\n",
       " 'KGZ': 'Kyrgyzstan',\n",
       " 'KIR': 'Kiribati',\n",
       " 'KN': 'Saint Kitts and Nevis',\n",
       " 'KOS': 'Kosovo',\n",
       " 'KWT': 'Kuwait',\n",
       " 'L': 'Luxembourg',\n",
       " 'LAO': 'Laos',\n",
       " 'LAR': 'Libya',\n",
       " 'LB': 'Liberia',\n",
       " 'LS': 'Lesotho',\n",
       " 'LT': 'Lithuania',\n",
       " 'LV': 'Latvia',\n",
       " 'M': 'Malta',\n",
       " 'MA': 'Morocco',\n",
       " 'MACX': 'Macao',\n",
       " 'MAL': 'Malaysia',\n",
       " 'MART': 'Martinique',\n",
       " 'MAYO': 'Mayotte',\n",
       " 'MC': 'Monaco',\n",
       " 'MD': 'Moldova',\n",
       " 'MEL': 'Melilla',\n",
       " 'MEX': 'Mexico',\n",
       " 'MH': 'Marshall Islands',\n",
       " 'MK': 'Macedonia',\n",
       " 'MNE': 'Montenegro',\n",
       " 'MNG': 'Mongolia',\n",
       " 'MNTS': 'Montserrat',\n",
       " 'MOC': 'Mozambique',\n",
       " 'MS': 'Mauritius',\n",
       " 'MV': 'Maldives',\n",
       " 'MW': 'Malawi',\n",
       " 'MYA': 'Myanmar',\n",
       " 'N': 'Norway',\n",
       " 'NAM': 'Namibia',\n",
       " 'NAU': 'Nauru',\n",
       " 'NCA': 'New Caledonia',\n",
       " 'NEP': 'Nepal',\n",
       " 'NIC': 'Nicaragua',\n",
       " 'NIUE': 'Niue',\n",
       " 'NL': 'Netherlands',\n",
       " 'NLSM': 'Sint Maarten',\n",
       " 'NMIS': 'Northern Mariana Islands',\n",
       " 'NOK': 'North Korea',\n",
       " 'NORF': 'Norfolk Island',\n",
       " 'NZ': 'New Zealand',\n",
       " 'OM': 'Oman',\n",
       " 'P': 'Portugal',\n",
       " 'PA': 'Panama',\n",
       " 'PAL': 'Palau',\n",
       " 'PE': 'Peru',\n",
       " 'PITC': 'Pitcairn',\n",
       " 'PK': 'Pakistan',\n",
       " 'PL': 'Poland',\n",
       " 'PNG': 'Papua New Guinea',\n",
       " 'PR': 'Puerto Rico',\n",
       " 'PY': 'Paraguay',\n",
       " 'Q': 'Qatar',\n",
       " 'R': 'Russia',\n",
       " 'RA': 'Argentina',\n",
       " 'RB': 'Botswana',\n",
       " 'RC': 'Taiwan',\n",
       " 'RCA': 'Central African Republic',\n",
       " 'RCB': 'Congo',\n",
       " 'RCH': 'Chile',\n",
       " 'REUN': 'Reunion',\n",
       " 'RG': 'Guinea',\n",
       " 'RH': 'Haiti',\n",
       " 'RI': 'Indonesia',\n",
       " 'RIM': 'Mauritania',\n",
       " 'RL': 'Lebanon',\n",
       " 'RM': 'Madagascar',\n",
       " 'RMM': 'Mali',\n",
       " 'RN': 'Niger',\n",
       " 'RO': 'Romania',\n",
       " 'ROK': 'South Korea',\n",
       " 'ROU': 'Uruguay',\n",
       " 'RP': 'Philippines',\n",
       " 'RSA': 'South Africa',\n",
       " 'RSM': 'San Marino',\n",
       " 'RT': 'Togo',\n",
       " 'RWA': 'Rwanda',\n",
       " 'S': 'Sweden',\n",
       " 'SA': 'Saudi Arabia',\n",
       " 'SBAR': 'Saint Barthelemy',\n",
       " 'SD': 'Swaziland',\n",
       " 'SF': 'Finland',\n",
       " 'SGP': 'Singapore',\n",
       " 'SK': 'Slovakia',\n",
       " 'SLB': 'Solomon Islands',\n",
       " 'SLO': 'Slovenia',\n",
       " 'SMAR': 'Saint Martin',\n",
       " 'SME': 'Suriname',\n",
       " 'SN': 'Senegal',\n",
       " 'SP': 'Somalia',\n",
       " 'SPMI': 'Saint Pierre and Miquelon',\n",
       " 'SRB': 'Serbia',\n",
       " 'SSD': 'South Sudan',\n",
       " 'STP': 'Sao Tome and Principe',\n",
       " 'SUD': 'Sudan',\n",
       " 'SVAX': 'Svalbard',\n",
       " 'SY': 'Seychelles',\n",
       " 'SYR': 'Syria',\n",
       " 'TAD': 'Tajikistan',\n",
       " 'TCH': 'Chad',\n",
       " 'THA': 'Thailand',\n",
       " 'TL': 'Timor-Leste',\n",
       " 'TM': 'Turkmenistan',\n",
       " 'TN': 'Tunisia',\n",
       " 'TO': 'Tonga',\n",
       " 'TOK': 'Tokelau',\n",
       " 'TR': 'Turkey',\n",
       " 'TT': 'Trinidad and Tobago',\n",
       " 'TUCA': 'Turks and Caicos Islands',\n",
       " 'TUV': 'Tuvalu',\n",
       " 'UA': 'Ukraine',\n",
       " 'UAE': 'United Arab Emirates',\n",
       " 'USA': 'United States',\n",
       " 'UZB': 'Uzbekistan',\n",
       " 'V': 'Holy See',\n",
       " 'VIRG': 'Virgin Islands',\n",
       " 'VN': 'Vietnam',\n",
       " 'VU': 'Vanuatu',\n",
       " 'WAFU': 'Wallis and Futuna',\n",
       " 'WAG': 'Gambia',\n",
       " 'WAL': 'Sierra Leone',\n",
       " 'WAN': 'Nigeria',\n",
       " 'WD': 'Dominica',\n",
       " 'WEST': 'West Bank',\n",
       " 'WG': 'Grenada',\n",
       " 'WL': 'Saint Lucia',\n",
       " 'WS': 'Samoa',\n",
       " 'WSA': 'Western Sahara',\n",
       " 'WV': 'Saint Vincent and the Grenadines',\n",
       " 'XMAS': 'Christmas Island',\n",
       " 'YE': 'Yemen',\n",
       " 'YV': 'Venezuela',\n",
       " 'Z': 'Zambia',\n",
       " 'ZRE': 'Zaire',\n",
       " 'ZW': 'Zimbabwe'}"
      ]
     },
     "execution_count": 6,
     "metadata": {},
     "output_type": "execute_result"
    }
   ],
   "source": [
    "data_wrangling_xml.countries"
   ]
  },
  {
   "cell_type": "markdown",
   "metadata": {},
   "source": [
    "### A) Longest River"
   ]
  },
  {
   "cell_type": "code",
   "execution_count": 7,
   "metadata": {
    "collapsed": false
   },
   "outputs": [
    {
     "data": {
      "text/plain": [
       "country    Colombia\n",
       "length         6448\n",
       "name       Amazonas\n",
       "Name: 0, dtype: object"
      ]
     },
     "execution_count": 7,
     "metadata": {},
     "output_type": "execute_result"
    }
   ],
   "source": [
    "data_wrangling_xml.longest_river"
   ]
  },
  {
   "cell_type": "markdown",
   "metadata": {},
   "source": [
    "### B) Largest Lake"
   ]
  },
  {
   "cell_type": "code",
   "execution_count": 8,
   "metadata": {
    "collapsed": false
   },
   "outputs": [
    {
     "data": {
      "text/plain": [
       "area            386400\n",
       "country         Russia\n",
       "name       Caspian Sea\n",
       "Name: 0, dtype: object"
      ]
     },
     "execution_count": 8,
     "metadata": {},
     "output_type": "execute_result"
    }
   ],
   "source": [
    "data_wrangling_xml.largest_lake"
   ]
  },
  {
   "cell_type": "markdown",
   "metadata": {},
   "source": [
    "### C) Airport at Highest Elevation"
   ]
  },
  {
   "cell_type": "code",
   "execution_count": 9,
   "metadata": {
    "collapsed": false,
    "scrolled": true
   },
   "outputs": [
    {
     "data": {
      "text/plain": [
       "country           Bolivia\n",
       "elevation            4063\n",
       "name         El Alto Intl\n",
       "Name: 0, dtype: object"
      ]
     },
     "execution_count": 9,
     "metadata": {},
     "output_type": "execute_result"
    }
   ],
   "source": [
    "data_wrangling_xml.highest_airport"
   ]
  }
 ],
 "metadata": {
  "kernelspec": {
   "display_name": "Python 2",
   "language": "python",
   "name": "python2"
  },
  "language_info": {
   "codemirror_mode": {
    "name": "ipython",
    "version": 2
   },
   "file_extension": ".py",
   "mimetype": "text/x-python",
   "name": "python",
   "nbconvert_exporter": "python",
   "pygments_lexer": "ipython2",
   "version": "2.7.11"
  },
  "widgets": {
   "state": {},
   "version": "1.1.2"
  }
 },
 "nbformat": 4,
 "nbformat_minor": 0
}
