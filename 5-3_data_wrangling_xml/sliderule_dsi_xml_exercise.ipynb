{
 "cells": [
  {
   "cell_type": "markdown",
   "metadata": {},
   "source": [
    "# XML example and exercise\n",
    "****\n",
    "+ study examples of accessing nodes in XML tree structure  \n",
    "+ work on exercise to be completed and submitted\n",
    "****\n",
    "+ reference: https://docs.python.org/2.7/library/xml.etree.elementtree.html\n",
    "+ data source: http://www.dbis.informatik.uni-goettingen.de/Mondial\n",
    "****"
   ]
  },
  {
   "cell_type": "code",
   "execution_count": 368,
   "metadata": {
    "collapsed": true
   },
   "outputs": [],
   "source": [
    "from xml.etree import ElementTree as ET"
   ]
  },
  {
   "cell_type": "markdown",
   "metadata": {},
   "source": [
    "## XML example\n",
    "\n",
    "+ for details about tree traversal and iterators, see https://docs.python.org/2.7/library/xml.etree.elementtree.html"
   ]
  },
  {
   "cell_type": "code",
   "execution_count": 369,
   "metadata": {
    "collapsed": true
   },
   "outputs": [],
   "source": [
    "document_tree = ET.parse( './data/mondial_database_less.xml' )"
   ]
  },
  {
   "cell_type": "code",
   "execution_count": 370,
   "metadata": {
    "collapsed": false
   },
   "outputs": [
    {
     "name": "stdout",
     "output_type": "stream",
     "text": [
      "Albania\n",
      "Greece\n",
      "Macedonia\n",
      "Serbia\n",
      "Montenegro\n",
      "Kosovo\n",
      "Andorra\n"
     ]
    }
   ],
   "source": [
    "# print names of all countries\n",
    "for child in document_tree.getroot():\n",
    "    print child.find('name').text"
   ]
  },
  {
   "cell_type": "code",
   "execution_count": 371,
   "metadata": {
    "collapsed": false
   },
   "outputs": [
    {
     "name": "stdout",
     "output_type": "stream",
     "text": [
      "* Albania: Tirana, Shkodër, Durrës, Vlorë, Elbasan, Korçë\n",
      "* Greece: Komotini, Kavala, Athina, Peiraias, Peristeri, Acharnes, Patra, Kozani, Kerkyra, Ioannina, Thessaloniki, Iraklio, Chania, Ermoupoli, Rhodes, Tripoli, Lamia, Chalkida, Larissa, Volos, Mytilini, Karyes\n",
      "* Macedonia: Skopje, Kumanovo\n",
      "* Serbia: Beograd, Novi Sad, Niš\n",
      "* Montenegro: Podgorica\n",
      "* Kosovo: Prishtine\n",
      "* Andorra: Andorra la Vella\n"
     ]
    }
   ],
   "source": [
    "# print names of all countries and their cities\n",
    "for element in document_tree.iterfind('country'):\n",
    "    print '* ' + element.find('name').text + ':',\n",
    "    capitals_string = ''\n",
    "    for subelement in element.getiterator('city'):\n",
    "        capitals_string += subelement.find('name').text + ', '\n",
    "    print capitals_string[:-2]"
   ]
  },
  {
   "cell_type": "markdown",
   "metadata": {},
   "source": [
    "****\n",
    "## XML exercise\n",
    "\n",
    "Using data in 'data/mondial_database.xml', the examples above, and refering to https://docs.python.org/2.7/library/xml.etree.elementtree.html, find\n",
    "\n",
    "1. 10 countries with the lowest infant mortality rates\n",
    "2. 10 cities with the largest population\n",
    "3. 10 ethnic groups with the largest overall populations (sum of best/latest estimates over all countries)\n",
    "4. name and country of a) longest river, b) largest lake and c) airport at highest elevation"
   ]
  },
  {
   "cell_type": "code",
   "execution_count": 372,
   "metadata": {
    "collapsed": true
   },
   "outputs": [],
   "source": [
    "import pandas as pd\n",
    "from math import floor"
   ]
  },
  {
   "cell_type": "code",
   "execution_count": 373,
   "metadata": {
    "collapsed": true
   },
   "outputs": [],
   "source": [
    "document = ET.parse( './data/mondial_database.xml' )"
   ]
  },
  {
   "cell_type": "markdown",
   "metadata": {},
   "source": [
    "## 1. 10 countries with the lowest infant mortality rates\n",
    "\n",
    "The approach here is to go through each country and "
   ]
  },
  {
   "cell_type": "code",
   "execution_count": 374,
   "metadata": {
    "collapsed": true
   },
   "outputs": [],
   "source": [
    "def try_country_subelement(element, sub_el_name):\n",
    "    '''\n",
    "    element: xml.etree.ElementTree.Element to be searched through\n",
    "    sub_el_name: string of subelement name to be found\n",
    "    If found: return list with country name and subelement text property\n",
    "    If not  : return list with country name and none\n",
    "    '''\n",
    "    try:\n",
    "        sub_element = [element.find('name').text, element.find(sub_el_name)]\n",
    "    except:\n",
    "        sub_element = [element.find('name').text, None]\n",
    "    \n",
    "    return sub_element"
   ]
  },
  {
   "cell_type": "code",
   "execution_count": 375,
   "metadata": {
    "collapsed": false
   },
   "outputs": [],
   "source": [
    "infant_mortality_rate_dict = {}\n",
    "for element in document.iterfind('country'):\n",
    "    country_imr = try_country_subelement(element,'infant_mortality')\n",
    "    if country_imr[1] is not None:\n",
    "        infant_mortality_rate_dict[country_imr[0]] = float(country_imr[1].text)\n",
    "    else:\n",
    "        infant_mortality_rate_dict[country_imr[0]] = country_imr[1]\n"
   ]
  },
  {
   "cell_type": "code",
   "execution_count": 376,
   "metadata": {
    "collapsed": false,
    "scrolled": true
   },
   "outputs": [],
   "source": [
    "df_imr = pd.DataFrame.from_dict(infant_mortality_rate_dict,orient='index').reset_index()\n",
    "df_imr.columns=['country','infant_mortality_rate']\n",
    "top_10_imr = df_imr.sort_values('infant_mortality_rate',ascending=True).head(10)\n",
    "top_10_imr.index = range(1,11)"
   ]
  },
  {
   "cell_type": "code",
   "execution_count": 377,
   "metadata": {
    "collapsed": false,
    "scrolled": true
   },
   "outputs": [
    {
     "data": {
      "text/html": [
       "<div>\n",
       "<table border=\"1\" class=\"dataframe\">\n",
       "  <thead>\n",
       "    <tr style=\"text-align: right;\">\n",
       "      <th></th>\n",
       "      <th>country</th>\n",
       "      <th>infant_mortality_rate</th>\n",
       "    </tr>\n",
       "  </thead>\n",
       "  <tbody>\n",
       "    <tr>\n",
       "      <th>1</th>\n",
       "      <td>Monaco</td>\n",
       "      <td>1.81</td>\n",
       "    </tr>\n",
       "    <tr>\n",
       "      <th>2</th>\n",
       "      <td>Japan</td>\n",
       "      <td>2.13</td>\n",
       "    </tr>\n",
       "    <tr>\n",
       "      <th>3</th>\n",
       "      <td>Bermuda</td>\n",
       "      <td>2.48</td>\n",
       "    </tr>\n",
       "    <tr>\n",
       "      <th>4</th>\n",
       "      <td>Norway</td>\n",
       "      <td>2.48</td>\n",
       "    </tr>\n",
       "    <tr>\n",
       "      <th>5</th>\n",
       "      <td>Singapore</td>\n",
       "      <td>2.53</td>\n",
       "    </tr>\n",
       "    <tr>\n",
       "      <th>6</th>\n",
       "      <td>Sweden</td>\n",
       "      <td>2.60</td>\n",
       "    </tr>\n",
       "    <tr>\n",
       "      <th>7</th>\n",
       "      <td>Czech Republic</td>\n",
       "      <td>2.63</td>\n",
       "    </tr>\n",
       "    <tr>\n",
       "      <th>8</th>\n",
       "      <td>Hong Kong</td>\n",
       "      <td>2.73</td>\n",
       "    </tr>\n",
       "    <tr>\n",
       "      <th>9</th>\n",
       "      <td>Macao</td>\n",
       "      <td>3.13</td>\n",
       "    </tr>\n",
       "    <tr>\n",
       "      <th>10</th>\n",
       "      <td>Iceland</td>\n",
       "      <td>3.15</td>\n",
       "    </tr>\n",
       "  </tbody>\n",
       "</table>\n",
       "</div>"
      ],
      "text/plain": [
       "           country  infant_mortality_rate\n",
       "1           Monaco                   1.81\n",
       "2            Japan                   2.13\n",
       "3          Bermuda                   2.48\n",
       "4           Norway                   2.48\n",
       "5        Singapore                   2.53\n",
       "6           Sweden                   2.60\n",
       "7   Czech Republic                   2.63\n",
       "8        Hong Kong                   2.73\n",
       "9            Macao                   3.13\n",
       "10         Iceland                   3.15"
      ]
     },
     "execution_count": 377,
     "metadata": {},
     "output_type": "execute_result"
    }
   ],
   "source": [
    "#Top 10 Countries with lowest Infant Mortality Rates\n",
    "top_10_imr"
   ]
  },
  {
   "cell_type": "code",
   "execution_count": null,
   "metadata": {
    "collapsed": true
   },
   "outputs": [],
   "source": []
  },
  {
   "cell_type": "code",
   "execution_count": null,
   "metadata": {
    "collapsed": true
   },
   "outputs": [],
   "source": []
  },
  {
   "cell_type": "markdown",
   "metadata": {},
   "source": [
    "## 2. 10 cities with the largest population\n",
    "The approach here is to go through each country and find all listed population data. Once found, only pick out the latest year's data and compile it into a dictionary containing the country, city, and population value."
   ]
  },
  {
   "cell_type": "code",
   "execution_count": 378,
   "metadata": {
    "collapsed": false
   },
   "outputs": [],
   "source": [
    "# Create a list to hold dicts containing {country, city, population}\n",
    "city_populations = []\n",
    "\n",
    "# Extract population information\n",
    "for element in document.iterfind('country'):\n",
    "    for city in element.iterfind('city'):\n",
    "        # Create a dict to store all poplulation data found for a city\n",
    "        pop_dict = {}\n",
    "        for pop in city.iterfind('population'):\n",
    "            pop_dict[int(pop.attrib['year'])] = int(pop.text)\n",
    "        # Pick the city population value with the latest year\n",
    "        latest_population_count = pop_dict[max(pop_dict.keys())] if pop_dict else None\n",
    "        # Add a dict to our 'city_populations' list containing the country, city, and population value\n",
    "        city_populations.append({'country':element.find('name').text,'city':city.find('name').text,'population':latest_population_count})"
   ]
  },
  {
   "cell_type": "code",
   "execution_count": 379,
   "metadata": {
    "collapsed": false
   },
   "outputs": [],
   "source": [
    "# convert list of dicts to DataFrame\n",
    "df_city_pop = pd.DataFrame.from_records(city_populations) \n",
    "# reorder columns for clarity\n",
    "df_city_pop = df_city_pop[['country','city','population']] \n",
    "\n",
    "# sort by population and make a top 10 df using '.head(10)'\n",
    "top_10_city_populations = df_city_pop.sort_values('population', ascending=False).head(10) \n",
    "# reindex top 10 df to show index as ranking from 1-10\n",
    "top_10_city_populations.index = range(1,11)"
   ]
  },
  {
   "cell_type": "code",
   "execution_count": 380,
   "metadata": {
    "collapsed": false
   },
   "outputs": [
    {
     "data": {
      "text/html": [
       "<div>\n",
       "<table border=\"1\" class=\"dataframe\">\n",
       "  <thead>\n",
       "    <tr style=\"text-align: right;\">\n",
       "      <th></th>\n",
       "      <th>country</th>\n",
       "      <th>city</th>\n",
       "      <th>population</th>\n",
       "    </tr>\n",
       "  </thead>\n",
       "  <tbody>\n",
       "    <tr>\n",
       "      <th>1</th>\n",
       "      <td>South Korea</td>\n",
       "      <td>Seoul</td>\n",
       "      <td>9708483</td>\n",
       "    </tr>\n",
       "    <tr>\n",
       "      <th>2</th>\n",
       "      <td>Egypt</td>\n",
       "      <td>Al Qahirah</td>\n",
       "      <td>8471859</td>\n",
       "    </tr>\n",
       "    <tr>\n",
       "      <th>3</th>\n",
       "      <td>Thailand</td>\n",
       "      <td>Bangkok</td>\n",
       "      <td>7506700</td>\n",
       "    </tr>\n",
       "    <tr>\n",
       "      <th>4</th>\n",
       "      <td>Hong Kong</td>\n",
       "      <td>Hong Kong</td>\n",
       "      <td>7055071</td>\n",
       "    </tr>\n",
       "    <tr>\n",
       "      <th>5</th>\n",
       "      <td>Vietnam</td>\n",
       "      <td>Ho Chi Minh</td>\n",
       "      <td>5968384</td>\n",
       "    </tr>\n",
       "    <tr>\n",
       "      <th>6</th>\n",
       "      <td>Singapore</td>\n",
       "      <td>Singapore</td>\n",
       "      <td>5076700</td>\n",
       "    </tr>\n",
       "    <tr>\n",
       "      <th>7</th>\n",
       "      <td>Egypt</td>\n",
       "      <td>Al Iskandariyah</td>\n",
       "      <td>4123869</td>\n",
       "    </tr>\n",
       "    <tr>\n",
       "      <th>8</th>\n",
       "      <td>Taiwan</td>\n",
       "      <td>New Taipei</td>\n",
       "      <td>3939305</td>\n",
       "    </tr>\n",
       "    <tr>\n",
       "      <th>9</th>\n",
       "      <td>South Korea</td>\n",
       "      <td>Busan</td>\n",
       "      <td>3403135</td>\n",
       "    </tr>\n",
       "    <tr>\n",
       "      <th>10</th>\n",
       "      <td>North Korea</td>\n",
       "      <td>Pyongyang</td>\n",
       "      <td>3255288</td>\n",
       "    </tr>\n",
       "  </tbody>\n",
       "</table>\n",
       "</div>"
      ],
      "text/plain": [
       "        country             city  population\n",
       "1   South Korea            Seoul     9708483\n",
       "2         Egypt       Al Qahirah     8471859\n",
       "3      Thailand          Bangkok     7506700\n",
       "4     Hong Kong        Hong Kong     7055071\n",
       "5       Vietnam      Ho Chi Minh     5968384\n",
       "6     Singapore        Singapore     5076700\n",
       "7         Egypt  Al Iskandariyah     4123869\n",
       "8        Taiwan       New Taipei     3939305\n",
       "9   South Korea            Busan     3403135\n",
       "10  North Korea        Pyongyang     3255288"
      ]
     },
     "execution_count": 380,
     "metadata": {},
     "output_type": "execute_result"
    }
   ],
   "source": [
    "top_10_city_populations"
   ]
  },
  {
   "cell_type": "markdown",
   "metadata": {},
   "source": [
    "## 3. 10 ethnic groups with the largest overall populations (sum of best/latest estimates over all countries)\n",
    "\n",
    "The approach here is to go through each country and find two things:\n",
    "1. Latest Country Population\n",
    "2. All the ethnic groups\n",
    "\n",
    "Each ethnic group has a 'percentage' attribute that indicates what percentage of the population in that country is made up of that ethnic group. After determining current population value for a country we can multiply those two numbers together to determine the total ethnic population in that country. We then add this determined population value to the total population tally for that ethnic group. This will let us determine which ethnic groups have the largest overall populations."
   ]
  },
  {
   "cell_type": "code",
   "execution_count": 381,
   "metadata": {
    "collapsed": false
   },
   "outputs": [],
   "source": [
    "# Create a dictionary containing {ethnicgroup, population}\n",
    "ethnicgroup_populations = {}\n",
    "\n",
    "# Find ethnic groups per country and calculate their population\n",
    "for country in document.iterfind('country'):    \n",
    "    \n",
    "    # Find latest country population\n",
    "    pop_dict = {}\n",
    "    for pop in country.iterfind('population'):\n",
    "        pop_dict[int(pop.attrib['year'])] = int(pop.text)\n",
    "    country_population = pop_dict[max(pop_dict.keys())] if pop_dict else None\n",
    "    \n",
    "    # Find all ethnic groups in a country and compute ethnic population value using \n",
    "    # 'country_population' and 'percentage' attribute associated with ethnic group\n",
    "    for egroup in country.iterfind('ethnicgroup'):\n",
    "        egroup_percent = float(egroup.attrib['percentage'])*.01\n",
    "        ethnic_population = floor(country_population * egroup_percent)\n",
    "        \n",
    "        # Store this computed population in 'ethnicgroup_populations' dictionary\n",
    "        if egroup.text in ethnicgroup_populations.keys():\n",
    "            ethnicgroup_populations[egroup.text] += ethnic_population\n",
    "        else:\n",
    "            ethnicgroup_populations[egroup.text] = ethnic_population\n"
   ]
  },
  {
   "cell_type": "code",
   "execution_count": 382,
   "metadata": {
    "collapsed": false
   },
   "outputs": [],
   "source": [
    "# Create a DataFrame using the 'ethnicgroup_populations' dictionary\n",
    "df_ethnic_populations = pd.DataFrame.from_dict(ethnicgroup_populations,orient='index').reset_index()\n",
    "# Rename columns for clarity\n",
    "df_ethnic_populations.columns = ['ethnicgroup','population']\n",
    "# Sort the DataFrame by 'population'\n",
    "df_ethnic_populations.sort_values('population',ascending=False,inplace=True)\n",
    "\n",
    "# Create a top 10 DataFrame and adjust index to match ranking\n",
    "top_10_ethnic_groups = df_ethnic_populations.head(10)\n",
    "top_10_ethnic_groups.index = range(1,11)"
   ]
  },
  {
   "cell_type": "code",
   "execution_count": 383,
   "metadata": {
    "collapsed": false
   },
   "outputs": [
    {
     "data": {
      "text/html": [
       "<div>\n",
       "<table border=\"1\" class=\"dataframe\">\n",
       "  <thead>\n",
       "    <tr style=\"text-align: right;\">\n",
       "      <th></th>\n",
       "      <th>ethnicgroup</th>\n",
       "      <th>population</th>\n",
       "    </tr>\n",
       "  </thead>\n",
       "  <tbody>\n",
       "    <tr>\n",
       "      <th>1</th>\n",
       "      <td>Han Chinese</td>\n",
       "      <td>1245058800</td>\n",
       "    </tr>\n",
       "    <tr>\n",
       "      <th>2</th>\n",
       "      <td>Indo-Aryan</td>\n",
       "      <td>871815583</td>\n",
       "    </tr>\n",
       "    <tr>\n",
       "      <th>3</th>\n",
       "      <td>European</td>\n",
       "      <td>494872201</td>\n",
       "    </tr>\n",
       "    <tr>\n",
       "      <th>4</th>\n",
       "      <td>African</td>\n",
       "      <td>318325104</td>\n",
       "    </tr>\n",
       "    <tr>\n",
       "      <th>5</th>\n",
       "      <td>Dravidian</td>\n",
       "      <td>302713744</td>\n",
       "    </tr>\n",
       "    <tr>\n",
       "      <th>6</th>\n",
       "      <td>Mestizo</td>\n",
       "      <td>157734349</td>\n",
       "    </tr>\n",
       "    <tr>\n",
       "      <th>7</th>\n",
       "      <td>Bengali</td>\n",
       "      <td>146776916</td>\n",
       "    </tr>\n",
       "    <tr>\n",
       "      <th>8</th>\n",
       "      <td>Russian</td>\n",
       "      <td>131856989</td>\n",
       "    </tr>\n",
       "    <tr>\n",
       "      <th>9</th>\n",
       "      <td>Japanese</td>\n",
       "      <td>126534212</td>\n",
       "    </tr>\n",
       "    <tr>\n",
       "      <th>10</th>\n",
       "      <td>Malay</td>\n",
       "      <td>121993548</td>\n",
       "    </tr>\n",
       "  </tbody>\n",
       "</table>\n",
       "</div>"
      ],
      "text/plain": [
       "    ethnicgroup  population\n",
       "1   Han Chinese  1245058800\n",
       "2    Indo-Aryan   871815583\n",
       "3      European   494872201\n",
       "4       African   318325104\n",
       "5     Dravidian   302713744\n",
       "6       Mestizo   157734349\n",
       "7       Bengali   146776916\n",
       "8       Russian   131856989\n",
       "9      Japanese   126534212\n",
       "10        Malay   121993548"
      ]
     },
     "execution_count": 383,
     "metadata": {},
     "output_type": "execute_result"
    }
   ],
   "source": [
    "top_10_ethnic_groups"
   ]
  },
  {
   "cell_type": "markdown",
   "metadata": {},
   "source": [
    "## 4. Name and country of a) longest river, b) largest lake and c) airport at highest elevation"
   ]
  },
  {
   "cell_type": "markdown",
   "metadata": {},
   "source": [
    "### A)"
   ]
  },
  {
   "cell_type": "code",
   "execution_count": 384,
   "metadata": {
    "collapsed": false
   },
   "outputs": [],
   "source": [
    "countries = {}\n",
    "for country in document.iterfind('country'):\n",
    "    countries[country.attrib['car_code']] = country.find('name').text"
   ]
  },
  {
   "cell_type": "code",
   "execution_count": 385,
   "metadata": {
    "collapsed": false
   },
   "outputs": [],
   "source": [
    "rivers = []\n",
    "for river in document.iterfind('river'):\n",
    "    name = river.find('name').text\n",
    "    # Determine Location\n",
    "    if river.find('located') is not None:\n",
    "        country = countries[river.find('located').attrib['country']]\n",
    "    else:\n",
    "        country = countries[river.find('source').attrib['country']]\n",
    "    \n",
    "    # Determine Length\n",
    "    if river.find('length') is not None:\n",
    "        length = float(river.find('length').text)\n",
    "    else:\n",
    "        length = None\n",
    "    \n",
    "    # Add dictionary of answers to 'rivers' list\n",
    "    rivers.append({\n",
    "            'name':name,\n",
    "            'country':country,\n",
    "            'length':length\n",
    "        })"
   ]
  },
  {
   "cell_type": "code",
   "execution_count": 386,
   "metadata": {
    "collapsed": false,
    "scrolled": true
   },
   "outputs": [
    {
     "data": {
      "text/plain": [
       "country    Colombia\n",
       "length         6448\n",
       "name       Amazonas\n",
       "Name: 0, dtype: object"
      ]
     },
     "execution_count": 386,
     "metadata": {},
     "output_type": "execute_result"
    }
   ],
   "source": [
    "df_rivers = pd.DataFrame.from_records(rivers).sort_values('length',ascending=False).reset_index(drop=True)\n",
    "longest_river = df_rivers.iloc[0]\n",
    "longest_river"
   ]
  },
  {
   "cell_type": "markdown",
   "metadata": {},
   "source": [
    "### B)"
   ]
  },
  {
   "cell_type": "code",
   "execution_count": 387,
   "metadata": {
    "collapsed": false
   },
   "outputs": [],
   "source": [
    "lakes = []\n",
    "for lake in document.iterfind('lake'):\n",
    "    name = lake.find('name').text\n",
    "    # Determine Location\n",
    "    if lake.find('located') is not None:\n",
    "        country = countries[lake.find('located').attrib['country']]\n",
    "    else:\n",
    "        country = countries[lake.attrib['country'].split(' ')[0]]\n",
    "    \n",
    "    # Determine size\n",
    "    if lake.find('area') is not None:\n",
    "        area = float(lake.find('area').text)\n",
    "    else:\n",
    "        area = None\n",
    "    \n",
    "    # Add dictionary of answers to 'lakes' list\n",
    "    lakes.append({\n",
    "            'name':name,\n",
    "            'country':country,\n",
    "            'area':area\n",
    "        })"
   ]
  },
  {
   "cell_type": "code",
   "execution_count": 388,
   "metadata": {
    "collapsed": false
   },
   "outputs": [
    {
     "data": {
      "text/plain": [
       "area            386400\n",
       "country         Russia\n",
       "name       Caspian Sea\n",
       "Name: 0, dtype: object"
      ]
     },
     "execution_count": 388,
     "metadata": {},
     "output_type": "execute_result"
    }
   ],
   "source": [
    "df_lakes = pd.DataFrame.from_records(lakes).sort_values('area',ascending=False).reset_index(drop=True)\n",
    "largest_lake = df_lakes.iloc[0]\n",
    "largest_lake"
   ]
  },
  {
   "cell_type": "markdown",
   "metadata": {},
   "source": [
    "### C)"
   ]
  },
  {
   "cell_type": "code",
   "execution_count": 389,
   "metadata": {
    "collapsed": false
   },
   "outputs": [],
   "source": [
    "airports = []\n",
    "for airport in document.iterfind('airport'):\n",
    "    name = airport.find('name').text\n",
    "    country = countries[airport.attrib['country']]\n",
    "    \n",
    "    # Determine elevation\n",
    "    if airport.find('elevation').text is not None:\n",
    "        elevation = float(airport.find('elevation').text)\n",
    "    else:\n",
    "        elevation = None\n",
    "        \n",
    "    # Add dictionary of answers to 'airports' list\n",
    "    airports.append({\n",
    "            'name':name,\n",
    "            'country':country,\n",
    "            'elevation':elevation\n",
    "        })"
   ]
  },
  {
   "cell_type": "code",
   "execution_count": 390,
   "metadata": {
    "collapsed": false
   },
   "outputs": [
    {
     "data": {
      "text/plain": [
       "country           Bolivia\n",
       "elevation            4063\n",
       "name         El Alto Intl\n",
       "Name: 0, dtype: object"
      ]
     },
     "execution_count": 390,
     "metadata": {},
     "output_type": "execute_result"
    }
   ],
   "source": [
    "df_airports = pd.DataFrame.from_records(airports).sort_values('elevation',ascending=False).reset_index(drop=True)\n",
    "highest_airport = df_airports.iloc[0]\n",
    "highest_airport"
   ]
  },
  {
   "cell_type": "markdown",
   "metadata": {},
   "source": [
    "***\n",
    "## Answers"
   ]
  },
  {
   "cell_type": "markdown",
   "metadata": {},
   "source": [
    "\n",
    "### 1) 10 countries with the lowest infant mortality rates"
   ]
  },
  {
   "cell_type": "code",
   "execution_count": 391,
   "metadata": {
    "collapsed": false
   },
   "outputs": [
    {
     "data": {
      "text/html": [
       "<div>\n",
       "<table border=\"1\" class=\"dataframe\">\n",
       "  <thead>\n",
       "    <tr style=\"text-align: right;\">\n",
       "      <th></th>\n",
       "      <th>country</th>\n",
       "      <th>infant_mortality_rate</th>\n",
       "    </tr>\n",
       "  </thead>\n",
       "  <tbody>\n",
       "    <tr>\n",
       "      <th>1</th>\n",
       "      <td>Monaco</td>\n",
       "      <td>1.81</td>\n",
       "    </tr>\n",
       "    <tr>\n",
       "      <th>2</th>\n",
       "      <td>Japan</td>\n",
       "      <td>2.13</td>\n",
       "    </tr>\n",
       "    <tr>\n",
       "      <th>3</th>\n",
       "      <td>Bermuda</td>\n",
       "      <td>2.48</td>\n",
       "    </tr>\n",
       "    <tr>\n",
       "      <th>4</th>\n",
       "      <td>Norway</td>\n",
       "      <td>2.48</td>\n",
       "    </tr>\n",
       "    <tr>\n",
       "      <th>5</th>\n",
       "      <td>Singapore</td>\n",
       "      <td>2.53</td>\n",
       "    </tr>\n",
       "    <tr>\n",
       "      <th>6</th>\n",
       "      <td>Sweden</td>\n",
       "      <td>2.60</td>\n",
       "    </tr>\n",
       "    <tr>\n",
       "      <th>7</th>\n",
       "      <td>Czech Republic</td>\n",
       "      <td>2.63</td>\n",
       "    </tr>\n",
       "    <tr>\n",
       "      <th>8</th>\n",
       "      <td>Hong Kong</td>\n",
       "      <td>2.73</td>\n",
       "    </tr>\n",
       "    <tr>\n",
       "      <th>9</th>\n",
       "      <td>Macao</td>\n",
       "      <td>3.13</td>\n",
       "    </tr>\n",
       "    <tr>\n",
       "      <th>10</th>\n",
       "      <td>Iceland</td>\n",
       "      <td>3.15</td>\n",
       "    </tr>\n",
       "  </tbody>\n",
       "</table>\n",
       "</div>"
      ],
      "text/plain": [
       "           country  infant_mortality_rate\n",
       "1           Monaco                   1.81\n",
       "2            Japan                   2.13\n",
       "3          Bermuda                   2.48\n",
       "4           Norway                   2.48\n",
       "5        Singapore                   2.53\n",
       "6           Sweden                   2.60\n",
       "7   Czech Republic                   2.63\n",
       "8        Hong Kong                   2.73\n",
       "9            Macao                   3.13\n",
       "10         Iceland                   3.15"
      ]
     },
     "execution_count": 391,
     "metadata": {},
     "output_type": "execute_result"
    }
   ],
   "source": [
    "top_10_imr"
   ]
  },
  {
   "cell_type": "markdown",
   "metadata": {},
   "source": [
    "### 2) 10 cities with the largest population"
   ]
  },
  {
   "cell_type": "code",
   "execution_count": 392,
   "metadata": {
    "collapsed": false
   },
   "outputs": [
    {
     "data": {
      "text/html": [
       "<div>\n",
       "<table border=\"1\" class=\"dataframe\">\n",
       "  <thead>\n",
       "    <tr style=\"text-align: right;\">\n",
       "      <th></th>\n",
       "      <th>country</th>\n",
       "      <th>city</th>\n",
       "      <th>population</th>\n",
       "    </tr>\n",
       "  </thead>\n",
       "  <tbody>\n",
       "    <tr>\n",
       "      <th>1</th>\n",
       "      <td>South Korea</td>\n",
       "      <td>Seoul</td>\n",
       "      <td>9708483</td>\n",
       "    </tr>\n",
       "    <tr>\n",
       "      <th>2</th>\n",
       "      <td>Egypt</td>\n",
       "      <td>Al Qahirah</td>\n",
       "      <td>8471859</td>\n",
       "    </tr>\n",
       "    <tr>\n",
       "      <th>3</th>\n",
       "      <td>Thailand</td>\n",
       "      <td>Bangkok</td>\n",
       "      <td>7506700</td>\n",
       "    </tr>\n",
       "    <tr>\n",
       "      <th>4</th>\n",
       "      <td>Hong Kong</td>\n",
       "      <td>Hong Kong</td>\n",
       "      <td>7055071</td>\n",
       "    </tr>\n",
       "    <tr>\n",
       "      <th>5</th>\n",
       "      <td>Vietnam</td>\n",
       "      <td>Ho Chi Minh</td>\n",
       "      <td>5968384</td>\n",
       "    </tr>\n",
       "    <tr>\n",
       "      <th>6</th>\n",
       "      <td>Singapore</td>\n",
       "      <td>Singapore</td>\n",
       "      <td>5076700</td>\n",
       "    </tr>\n",
       "    <tr>\n",
       "      <th>7</th>\n",
       "      <td>Egypt</td>\n",
       "      <td>Al Iskandariyah</td>\n",
       "      <td>4123869</td>\n",
       "    </tr>\n",
       "    <tr>\n",
       "      <th>8</th>\n",
       "      <td>Taiwan</td>\n",
       "      <td>New Taipei</td>\n",
       "      <td>3939305</td>\n",
       "    </tr>\n",
       "    <tr>\n",
       "      <th>9</th>\n",
       "      <td>South Korea</td>\n",
       "      <td>Busan</td>\n",
       "      <td>3403135</td>\n",
       "    </tr>\n",
       "    <tr>\n",
       "      <th>10</th>\n",
       "      <td>North Korea</td>\n",
       "      <td>Pyongyang</td>\n",
       "      <td>3255288</td>\n",
       "    </tr>\n",
       "  </tbody>\n",
       "</table>\n",
       "</div>"
      ],
      "text/plain": [
       "        country             city  population\n",
       "1   South Korea            Seoul     9708483\n",
       "2         Egypt       Al Qahirah     8471859\n",
       "3      Thailand          Bangkok     7506700\n",
       "4     Hong Kong        Hong Kong     7055071\n",
       "5       Vietnam      Ho Chi Minh     5968384\n",
       "6     Singapore        Singapore     5076700\n",
       "7         Egypt  Al Iskandariyah     4123869\n",
       "8        Taiwan       New Taipei     3939305\n",
       "9   South Korea            Busan     3403135\n",
       "10  North Korea        Pyongyang     3255288"
      ]
     },
     "execution_count": 392,
     "metadata": {},
     "output_type": "execute_result"
    }
   ],
   "source": [
    "top_10_city_populations"
   ]
  },
  {
   "cell_type": "markdown",
   "metadata": {},
   "source": [
    "### 3) 10 ethnic groups with the largest overall populations (sum of best/latest estimates over all countries)"
   ]
  },
  {
   "cell_type": "code",
   "execution_count": 393,
   "metadata": {
    "collapsed": false
   },
   "outputs": [
    {
     "data": {
      "text/html": [
       "<div>\n",
       "<table border=\"1\" class=\"dataframe\">\n",
       "  <thead>\n",
       "    <tr style=\"text-align: right;\">\n",
       "      <th></th>\n",
       "      <th>ethnicgroup</th>\n",
       "      <th>population</th>\n",
       "    </tr>\n",
       "  </thead>\n",
       "  <tbody>\n",
       "    <tr>\n",
       "      <th>1</th>\n",
       "      <td>Han Chinese</td>\n",
       "      <td>1245058800</td>\n",
       "    </tr>\n",
       "    <tr>\n",
       "      <th>2</th>\n",
       "      <td>Indo-Aryan</td>\n",
       "      <td>871815583</td>\n",
       "    </tr>\n",
       "    <tr>\n",
       "      <th>3</th>\n",
       "      <td>European</td>\n",
       "      <td>494872201</td>\n",
       "    </tr>\n",
       "    <tr>\n",
       "      <th>4</th>\n",
       "      <td>African</td>\n",
       "      <td>318325104</td>\n",
       "    </tr>\n",
       "    <tr>\n",
       "      <th>5</th>\n",
       "      <td>Dravidian</td>\n",
       "      <td>302713744</td>\n",
       "    </tr>\n",
       "    <tr>\n",
       "      <th>6</th>\n",
       "      <td>Mestizo</td>\n",
       "      <td>157734349</td>\n",
       "    </tr>\n",
       "    <tr>\n",
       "      <th>7</th>\n",
       "      <td>Bengali</td>\n",
       "      <td>146776916</td>\n",
       "    </tr>\n",
       "    <tr>\n",
       "      <th>8</th>\n",
       "      <td>Russian</td>\n",
       "      <td>131856989</td>\n",
       "    </tr>\n",
       "    <tr>\n",
       "      <th>9</th>\n",
       "      <td>Japanese</td>\n",
       "      <td>126534212</td>\n",
       "    </tr>\n",
       "    <tr>\n",
       "      <th>10</th>\n",
       "      <td>Malay</td>\n",
       "      <td>121993548</td>\n",
       "    </tr>\n",
       "  </tbody>\n",
       "</table>\n",
       "</div>"
      ],
      "text/plain": [
       "    ethnicgroup  population\n",
       "1   Han Chinese  1245058800\n",
       "2    Indo-Aryan   871815583\n",
       "3      European   494872201\n",
       "4       African   318325104\n",
       "5     Dravidian   302713744\n",
       "6       Mestizo   157734349\n",
       "7       Bengali   146776916\n",
       "8       Russian   131856989\n",
       "9      Japanese   126534212\n",
       "10        Malay   121993548"
      ]
     },
     "execution_count": 393,
     "metadata": {},
     "output_type": "execute_result"
    }
   ],
   "source": [
    "top_10_ethnic_groups"
   ]
  },
  {
   "cell_type": "markdown",
   "metadata": {},
   "source": [
    "### 4 A) Name and country of longest river\n",
    "* Name: Amazonas\n",
    "* Country: Columbia\n",
    "* Length: 6448"
   ]
  },
  {
   "cell_type": "code",
   "execution_count": 394,
   "metadata": {
    "collapsed": false
   },
   "outputs": [
    {
     "data": {
      "text/plain": [
       "country    Colombia\n",
       "length         6448\n",
       "name       Amazonas\n",
       "Name: 0, dtype: object"
      ]
     },
     "execution_count": 394,
     "metadata": {},
     "output_type": "execute_result"
    }
   ],
   "source": [
    "longest_river"
   ]
  },
  {
   "cell_type": "markdown",
   "metadata": {},
   "source": [
    "### 4 B) Name and country of largest lake\n",
    "* Name: Caspian Sea\n",
    "* Country: Russia\n",
    "* Area: 386400"
   ]
  },
  {
   "cell_type": "code",
   "execution_count": 395,
   "metadata": {
    "collapsed": false
   },
   "outputs": [
    {
     "data": {
      "text/plain": [
       "area            386400\n",
       "country         Russia\n",
       "name       Caspian Sea\n",
       "Name: 0, dtype: object"
      ]
     },
     "execution_count": 395,
     "metadata": {},
     "output_type": "execute_result"
    }
   ],
   "source": [
    "largest_lake"
   ]
  },
  {
   "cell_type": "markdown",
   "metadata": {},
   "source": [
    "### 4 C) Name and country of airport at highest elevation\n",
    "* Name: El Alto Intl\n",
    "* Country: Bolivia\n",
    "* Elevation: 4063"
   ]
  },
  {
   "cell_type": "code",
   "execution_count": 396,
   "metadata": {
    "collapsed": false
   },
   "outputs": [
    {
     "data": {
      "text/plain": [
       "country           Bolivia\n",
       "elevation            4063\n",
       "name         El Alto Intl\n",
       "Name: 0, dtype: object"
      ]
     },
     "execution_count": 396,
     "metadata": {},
     "output_type": "execute_result"
    }
   ],
   "source": [
    "highest_airport"
   ]
  }
 ],
 "metadata": {
  "kernelspec": {
   "display_name": "Python 2",
   "language": "python",
   "name": "python2"
  },
  "language_info": {
   "codemirror_mode": {
    "name": "ipython",
    "version": 2
   },
   "file_extension": ".py",
   "mimetype": "text/x-python",
   "name": "python",
   "nbconvert_exporter": "python",
   "pygments_lexer": "ipython2",
   "version": "2.7.11"
  },
  "widgets": {
   "state": {},
   "version": "1.1.2"
  }
 },
 "nbformat": 4,
 "nbformat_minor": 0
}
