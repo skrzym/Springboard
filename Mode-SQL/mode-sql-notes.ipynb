{
 "cells": [
  {
   "cell_type": "markdown",
   "metadata": {},
   "source": [
    "# Springboard Data Science - Mode SQL Assignment"
   ]
  },
  {
   "cell_type": "markdown",
   "metadata": {},
   "source": [
    "## Investigating a Drop in User Engagement"
   ]
  },
  {
   "cell_type": "markdown",
   "metadata": {},
   "source": [
    "***\n",
    "### The problem\n",
    "You show up to work Tuesday morning, September 2, 2014. The head of the Product team walks over to your desk and asks you what you think about the latest activity on the user engagement dashboards. You fire them up, and something immediately jumps out:"
   ]
  },
  {
   "cell_type": "code",
   "execution_count": 1,
   "metadata": {
    "collapsed": false
   },
   "outputs": [],
   "source": [
    "import ipywidgets as widgets\n",
    "widgets.HTML(\n",
    "    value='<iframe src=\"https://modeanalytics.com/modeanalytics/reports/cbb8c291ee96/runs/7925c979521e/embed\" \\\n",
    "    width=100% height=\"375\" frameborder=\"0\"></iframe>',\n",
    "    placeholder='Mode Chart for Yammer Weekly Active Users',\n",
    "    description='Mode Chart for Yammer Weekly Active Users',\n",
    "    disabled=False\n",
    ")"
   ]
  },
  {
   "cell_type": "markdown",
   "metadata": {},
   "source": [
    "The above chart shows the number of engaged users each week. Yammer defines engagement as having made some type of server call by interacting with the product (shown in the data as events of type “engagement”). Any point in this chart can be interpreted as “the number of users who logged at least one engagement event during the week starting on that date.”\n",
    "\n",
    "**You are responsible for determining what caused the dip at the end of the chart shown above and, if appropriate, recommending solutions for the problem.**"
   ]
  },
  {
   "cell_type": "markdown",
   "metadata": {},
   "source": [
    "***\n",
    "### Possible Causes"
   ]
  },
  {
   "cell_type": "markdown",
   "metadata": {},
   "source": [
    "1. Since Yammer is a workplace tool"
   ]
  },
  {
   "cell_type": "markdown",
   "metadata": {},
   "source": [
    "***\n",
    "### Relevant Tables for Investigation\n",
    "\n",
    "#### Table 1: Users\n",
    "This table includes one row per user, with descriptive information about that user's account. \n",
    "\n",
    "This table name in Mode is **tutorial.yammer_users**\n",
    "\n",
    "| Column Name      | Description                                                                   |\n",
    "|------------------|-------------------------------------------------------------------------------|\n",
    "| **user_id**      | A unique ID per user. Can be joined to user_id in either of the other tables. |\n",
    "| **created_at**   | The time the user was created (first signed up)                               |\n",
    "| **state**        | The state of the user (active or pending)                                     |\n",
    "| **activated_at** | The time the user was activated, if they are active                           |\n",
    "| **company_id**   | The ID of the user's company                                                  |\n",
    "| **language**     | The chosen language of the user                                               |\n",
    "\n",
    "\n",
    "\n",
    "#### Table 2: Events\n",
    "This table includes one row per event, where an event is an action that a user has taken on Yammer. These events include login events, messaging events, search events, events logged as users progress through a signup funnel, events around received emails. \n",
    "\n",
    "This table name in Mode is **tutorial.yammer_events **\n",
    "\n",
    "|Column Name|Description|\n",
    "|-----------|-----------|\n",
    "| **user_id** | The ID of the user logging the event. Can be joined to user\\_id in either of the other tables.|\n",
    "| **occurred_at**| The time the event occurred. |\n",
    "| **event_type**| The general event type. There are two values in this dataset: \"signup_flow\", which refers to anything occuring during the process of a user's authentication, and \"engagement\", which refers to general product usage after the user has signed up for the first time. |\n",
    "| **event_name**| The specific action the user took. Possible values include: |\n",
    "| |**create_user**: User is added to Yammer's database during signup process |\n",
    "| |**enter_email**: User begins the signup process by entering her email address |\n",
    "| |**enter_info**: User enters her name and personal information during signup process |\n",
    "| |**complete_signup**: User completes the entire signup/authentication process |\n",
    "| |**home_page**: User loads the home page |\n",
    "| |**like_message**: User likes another user's message |\n",
    "| |**login**: User logs into Yammer |\n",
    "| |**search_autocomplete**: User selects a search result from the autocomplete list |\n",
    "| |**search_run**: User runs a search query and is taken to the search results page |\n",
    "| |**search_click_result_X**: User clicks search result X on the results page, where X is a number from 1 through 10. |\n",
    "| |**send_message**: User posts a message |\n",
    "| |**view_inbox**: User views messages in her inbox |\n",
    "| **location**| The country from which the event was logged (collected through IP address).|\n",
    "| **device**| The type of device used to log the event.|\n",
    "\n",
    "\n",
    "#### Table 3: Email Events\n",
    "This table contains events specific to the sending of emails. It is similar in structure to the events table above. \n",
    "\n",
    "This table name in Mode is **tutorial.yammer_emails**\n",
    "\n",
    "|Column Name|Description|\n",
    "|-----------|-----------|\n",
    "| **user_id**| The ID of the user to whom the event relates. Can be joined to user_id in either of the other tables.|\n",
    "| **occurred_at**| The time the event occurred.|\n",
    "| **action**| The name of the event that occurred. \"sent_weekly_digest\" means that the user was delivered a digest email showing relevant conversations from the previous day. \"email_open\" means that the user opened the email. \"email_clickthrough\" means that the user clicked a link in the email. |\n",
    "\n",
    "\n",
    "#### Table 4: Rollup Periods\n",
    "The final table is a lookup table that is used to create rolling time periods. Though you could use the INTERVAL() function, creating rolling time periods is often easiest with a table like this. You won't necessarily need to use this table in queries that you write, but the column descriptions are provided here so that you can understand the query that creates the chart shown above. \n",
    "\n",
    "This table name in Mode is **benn.dimension_rollup_periods** \n",
    "\n",
    "|Column Name|Description|\n",
    "|-----------|-----------|\n",
    "| **period_id**| This identifies the type of rollup period. The above dashboard uses period 1007, which is rolling 7-day periods.|\n",
    "| **time_id**| This is the identifier for any given data point — it's what you would put on a chart axis. If time_id is 2014-08-01, that means that is represents the rolling 7-day period leading up to 2014-08-01.|\n",
    "| **pst_start**| The start time of the period in PST. For 2014-08-01, you'll notice that this is 2014-07-25 — one week prior. Use this to join events to the table.|\n",
    "| **pst_end**| The start time of the period in PST. For 2014-08-01, the end time is 2014-08-01. You can see how this is used in conjunction with pst_start to join events to this table in the query that produces the above chart.|\n",
    "| **utc_start**| The same as pst_start, but in UTC time.|\n",
    "| **pst_start**| The same as pst_end, but in UTC time.|"
   ]
  },
  {
   "cell_type": "markdown",
   "metadata": {},
   "source": [
    "***\n",
    "### Answer the following questions:\n",
    "* Do the answers to any of your original hypotheses lead you to further questions?\n",
    "* If so, what are they and how will you test them?\n",
    "* If they are questions that you can’t answer using data alone, how would you go about answering them (hypothetically, assuming you actually worked at this company)?\n",
    "* What seems like the most likely cause of the engagement dip?\n",
    "* What, if anything, should the company do in response?"
   ]
  }
 ],
 "metadata": {
  "kernelspec": {
   "display_name": "Python 3",
   "language": "python",
   "name": "python3"
  },
  "language_info": {
   "codemirror_mode": {
    "name": "ipython",
    "version": 3
   },
   "file_extension": ".py",
   "mimetype": "text/x-python",
   "name": "python",
   "nbconvert_exporter": "python",
   "pygments_lexer": "ipython3",
   "version": "3.5.1"
  },
  "widgets": {
   "state": {
    "0a42578eb17f4dbca4be662b7cccf56d": {
     "views": []
    },
    "c5c78388a4b44cb6a36d09fa9fe00b0e": {
     "views": [
      {
       "cell_index": 3
      }
     ]
    }
   },
   "version": "1.1.2"
  }
 },
 "nbformat": 4,
 "nbformat_minor": 0
}
